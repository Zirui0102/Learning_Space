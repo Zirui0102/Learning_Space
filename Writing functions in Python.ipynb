{
 "cells": [
  {
   "cell_type": "markdown",
   "id": "0203099a-e042-4af3-9031-0b81014f6552",
   "metadata": {},
   "source": [
    "**Summary**\n",
    "1. Chapter 1: Docstrings; DRY and Do One Thing; Pass by assignment (mutable vs immutable).\n",
    "2. Chapter 2: Context message - sets up context, run your code, and remove context. `with open`\n",
    "3. Chapter 3: Functions as objects; Scope; Closures; Decorators - wrapper that you can place around a function that changes that function's behavior.\n",
    "4. Chapter 4: More on Decorators (e.g., `@wraps`)"
   ]
  },
  {
   "cell_type": "markdown",
   "id": "b2642296-c689-4018-a59f-650c8b3af3c2",
   "metadata": {},
   "source": [
    "**Writing Functions in Python**"
   ]
  },
  {
   "cell_type": "markdown",
   "id": "b2782e55-b939-4e45-9301-dcfa625b4f84",
   "metadata": {},
   "source": [
    "**1. Docstrings**"
   ]
  },
  {
   "cell_type": "code",
   "execution_count": 1,
   "id": "316e3d88-542d-426b-9c06-b0668f7a8f83",
   "metadata": {},
   "outputs": [],
   "source": [
    "#Docstrings: Google style, Numpydoc, reStructuredText,and EpyText.\n",
    "#Google style: \n",
    "#1. start with a concise description of what the function does.\n",
    "#2. 'Args' section: list each argument name, type, and role.\n",
    "#3. 'Return' section: list the expected type or types of what gets returned."
   ]
  },
  {
   "cell_type": "code",
   "execution_count": 2,
   "id": "fa32d72e-8a48-4a21-ab1b-b05a63bc8698",
   "metadata": {},
   "outputs": [],
   "source": [
    "def count_letter(content, letter):\n",
    "  \"\"\"Count the number of times `letter` appears in `content`.\n",
    "\n",
    "  Args:\n",
    "    content (str): The string to search.\n",
    "    letter (str): The letter to search for.\n",
    "\n",
    "  Returns:\n",
    "    int\n",
    "\n",
    "  Raises:\n",
    "    ValueError: If `letter` is not a one-character string.\n",
    "  \"\"\"\n",
    "  if (not isinstance(letter, str)) or len(letter) != 1:\n",
    "    raise ValueError('`letter` must be a single character string.')\n",
    "  return len([char for char in content if char == letter])"
   ]
  },
  {
   "cell_type": "code",
   "execution_count": 3,
   "id": "042fdca0-d37f-415a-8308-21bbca5f5024",
   "metadata": {},
   "outputs": [
    {
     "name": "stdout",
     "output_type": "stream",
     "text": [
      "Return the answer to life,\n",
      "    the universe, and everything\n",
      "\n",
      "    Returns:\n",
      "        int\n",
      "    \n"
     ]
    }
   ],
   "source": [
    "#Retrieving docstrings\n",
    "def the_answer():\n",
    "    \"\"\"Return the answer to life,\n",
    "    the universe, and everything\n",
    "\n",
    "    Returns:\n",
    "        int\n",
    "    \"\"\"\n",
    "\n",
    "    return 42\n",
    "print(the_answer.__doc__)"
   ]
  },
  {
   "cell_type": "code",
   "execution_count": 4,
   "id": "5d7b3eab-71ba-465c-aa42-d0af5081de4c",
   "metadata": {},
   "outputs": [
    {
     "data": {
      "text/plain": [
       "'Return the answer to life,\\nthe universe, and everything\\n\\nReturns:\\n    int'"
      ]
     },
     "execution_count": 4,
     "metadata": {},
     "output_type": "execute_result"
    }
   ],
   "source": [
    "import inspect\n",
    "docstring = inspect.getdoc(the_answer)\n",
    "docstring"
   ]
  },
  {
   "cell_type": "markdown",
   "id": "e59ee415-a32a-4d4e-89c2-b286393eb959",
   "metadata": {},
   "source": [
    "**2. DRY and \"Do One Thing\"**"
   ]
  },
  {
   "cell_type": "code",
   "execution_count": 5,
   "id": "1a7d01ff-9870-4531-a5e8-4fd972f79b98",
   "metadata": {},
   "outputs": [],
   "source": [
    "#Don't repeat yourself(DRY) - Use functions to avoid repetition\n",
    "#Do one thing: every function should have a single responsibility."
   ]
  },
  {
   "cell_type": "markdown",
   "id": "3c8c9dbf-f203-43eb-955b-e605e8ab115f",
   "metadata": {},
   "source": [
    "**3. Pass by assignment**"
   ]
  },
  {
   "cell_type": "code",
   "execution_count": 10,
   "id": "427021f6-69e7-439e-b928-6b7dd08da3d7",
   "metadata": {},
   "outputs": [
    {
     "data": {
      "text/plain": [
       "3"
      ]
     },
     "execution_count": 10,
     "metadata": {},
     "output_type": "execute_result"
    }
   ],
   "source": [
    "#In python, integers are immutable, meaning they can't be changed.\n",
    "def bar(x):\n",
    "    x = x + 90\n",
    "    \n",
    "my_var = 3\n",
    "bar(my_var)\n",
    "my_var"
   ]
  },
  {
   "cell_type": "code",
   "execution_count": 11,
   "id": "5f5ddcae-a124-4692-a776-f204c0b3c6a5",
   "metadata": {},
   "outputs": [],
   "source": [
    "#Immutable: int, float, bool, string, bytes, tuple, None\n",
    "#Mutable: list, dict, set, objects, bytearray"
   ]
  },
  {
   "cell_type": "markdown",
   "id": "fb7f2bf1-eee9-43f3-ab7f-88bf6360b5b1",
   "metadata": {
    "jp-MarkdownHeadingCollapsed": true
   },
   "source": [
    "**4. Using context managers**"
   ]
  },
  {
   "cell_type": "code",
   "execution_count": 12,
   "id": "5927c3bd-8fea-464c-9aac-2f339a3edc1d",
   "metadata": {},
   "outputs": [],
   "source": [
    "#A context manager: sets up context, runs your code, and ` (avoid memory leak)\n",
    "#with <context-manager>(<args>) as <variable-name>:\\n\n",
    "    # Run your code here\n",
    "    # This code is running \"inside the context\"\n",
    "\n",
    "#This code runs after the context is removed"
   ]
  },
  {
   "cell_type": "code",
   "execution_count": 14,
   "id": "d0bc850d-930b-4dc7-a7e3-be711069b3eb",
   "metadata": {},
   "outputs": [
    {
     "name": "stdout",
     "output_type": "stream",
     "text": [
      "This file is 5118269 characters long\n"
     ]
    }
   ],
   "source": [
    "with open('C:/Users/89751/OneDrive/Desktop/embeddings_train.csv') as my_file:\n",
    "    text = my_file.read()\n",
    "    length = len(text)\n",
    "\n",
    "print('This file is {} characters long'.format(length))"
   ]
  },
  {
   "cell_type": "markdown",
   "id": "4253dc61-dd08-4adf-b543-b715b4ea8388",
   "metadata": {},
   "source": [
    "**5. Writing context managers**"
   ]
  },
  {
   "cell_type": "code",
   "execution_count": 1,
   "id": "7054e141-cff1-4787-8649-c42affb18f1a",
   "metadata": {},
   "outputs": [
    {
     "ename": "NameError",
     "evalue": "name 'contextlib' is not defined",
     "output_type": "error",
     "traceback": [
      "\u001b[1;31m---------------------------------------------------------------------------\u001b[0m",
      "\u001b[1;31mNameError\u001b[0m                                 Traceback (most recent call last)",
      "Cell \u001b[1;32mIn[1], line 5\u001b[0m\n\u001b[0;32m      1\u001b[0m \u001b[38;5;66;03m#Two ways to define a context manager: class-based and function-based.\u001b[39;00m\n\u001b[0;32m      2\u001b[0m \u001b[38;5;66;03m#Steps: (1) Define a function. (2) (optional) Add any set up code your context needs;\u001b[39;00m\n\u001b[0;32m      3\u001b[0m \u001b[38;5;66;03m#(3) Use the \"yield\" keyword. (4) (optional) Add any set up code your context needs;\u001b[39;00m\n\u001b[0;32m      4\u001b[0m \u001b[38;5;66;03m#(5) Add the '@contextlib.contextmanager' decorator.\u001b[39;00m\n\u001b[1;32m----> 5\u001b[0m \u001b[38;5;129m@contextlib\u001b[39m\u001b[38;5;241m.\u001b[39mcontextmanager\n\u001b[0;32m      6\u001b[0m \u001b[38;5;28;01mdef\u001b[39;00m \u001b[38;5;21mmy_context\u001b[39m():\n\u001b[0;32m      7\u001b[0m     \u001b[38;5;66;03m# Add any set up code you need\u001b[39;00m\n\u001b[0;32m      8\u001b[0m     \u001b[38;5;28;01myield\u001b[39;00m\n\u001b[0;32m      9\u001b[0m     \u001b[38;5;66;03m# Add any set up code you need\u001b[39;00m\n",
      "\u001b[1;31mNameError\u001b[0m: name 'contextlib' is not defined"
     ]
    }
   ],
   "source": [
    "#Two ways to define a context manager: class-based and function-based.\n",
    "#Steps: (1) Define a function. \n",
    "#(2) (optional) Add any set up code your context needs;\n",
    "#(3) Use the \"yield\" keyword. \n",
    "#(4) (optional) Add any set up code your context needs;\n",
    "#(5) Add the '@contextlib.contextmanager' decorator.\n",
    "@contextlib.contextmanager\n",
    "def my_context():\n",
    "    # Add any set up code you need\n",
    "    yield\n",
    "    # Add any set up code you need"
   ]
  },
  {
   "cell_type": "markdown",
   "id": "b546d892-deb1-4aa4-9b41-6a201ecf6c6e",
   "metadata": {},
   "source": [
    "**6. Advanced topics**"
   ]
  },
  {
   "cell_type": "code",
   "execution_count": 2,
   "id": "009a89ed-58d6-462f-8730-2e313dfe8bac",
   "metadata": {},
   "outputs": [],
   "source": [
    "#Nested contexts\n",
    "def copy(src, dst):\n",
    "    \"\"\"Copy the contents of one file to another\n",
    "\n",
    "    Args:\n",
    "        src(str): File name of the file to be copied.\n",
    "        dst(str): Where to write the new file.\n",
    "    \"\"\"\n",
    "    #open both files\n",
    "    with open(src) as f_src:\n",
    "        with open(dst, 'w') as f_dst:\n",
    "            #Read and write each line, one at a time\n",
    "            for line in f_src:\n",
    "                f_dst.write(line)\n",
    "        "
   ]
  },
  {
   "cell_type": "code",
   "execution_count": null,
   "id": "93d7be07-e87d-4d8e-8297-4d12ef444b6b",
   "metadata": {},
   "outputs": [],
   "source": [
    "#Handling errors\n",
    "try: \n",
    "    # code that might raise an error\n",
    "except:\n",
    "    # do something about the error\n",
    "finally:\n",
    "    # this code runs no matter what"
   ]
  },
  {
   "cell_type": "code",
   "execution_count": 3,
   "id": "bb2f5044-0425-4ab8-9932-30ebc648ba4b",
   "metadata": {},
   "outputs": [],
   "source": [
    "#Context manager patterns\n",
    "#Open, Close; Lock, Release; Change, Reset; Enter, Exit;\n",
    "#Start, Stop; Setup, Teardown; Connect, Disconnect."
   ]
  },
  {
   "cell_type": "markdown",
   "id": "81ad5863-bbd0-480a-806b-482331ff9bc9",
   "metadata": {},
   "source": [
    "**7. Functions as objects**"
   ]
  },
  {
   "cell_type": "code",
   "execution_count": 4,
   "id": "f9d449c7-030c-4083-b1eb-93b23e111260",
   "metadata": {},
   "outputs": [
    {
     "data": {
      "text/plain": [
       "function"
      ]
     },
     "execution_count": 4,
     "metadata": {},
     "output_type": "execute_result"
    }
   ],
   "source": [
    "#Functions as variables\n",
    "def my_function():\n",
    "    print(\"Hello\")\n",
    "\n",
    "x = my_function\n",
    "type(x)"
   ]
  },
  {
   "cell_type": "code",
   "execution_count": 5,
   "id": "60a2809c-475a-4a7d-8fb9-9d14b0e98675",
   "metadata": {},
   "outputs": [
    {
     "name": "stdout",
     "output_type": "stream",
     "text": [
      "I am printing with an element of a list!\n"
     ]
    }
   ],
   "source": [
    "#Lists and dictionaries of functions\n",
    "list_of_functions = [my_function, open, print]\n",
    "list_of_functions[2]('I am printing with an element of a list!')"
   ]
  },
  {
   "cell_type": "code",
   "execution_count": 6,
   "id": "76d70636-322c-4417-a28d-0300636beeee",
   "metadata": {},
   "outputs": [
    {
     "name": "stdout",
     "output_type": "stream",
     "text": [
      "I am printing with an element of a list!\n"
     ]
    }
   ],
   "source": [
    "dict_of_functions = {\n",
    "    'func1': my_function,\n",
    "    'func2': open,\n",
    "    'func3': print\n",
    "}\n",
    "dict_of_functions['func3']('I am printing with an element of a list!')"
   ]
  },
  {
   "cell_type": "markdown",
   "id": "81b9270d-0ff3-4121-9136-1995eb4abf3c",
   "metadata": {},
   "source": [
    "**8. Scope**"
   ]
  },
  {
   "cell_type": "code",
   "execution_count": 8,
   "id": "4e84fcf7-0118-45be-b949-0786fef1eb9a",
   "metadata": {},
   "outputs": [
    {
     "name": "stdout",
     "output_type": "stream",
     "text": [
      "200\n",
      "7\n"
     ]
    }
   ],
   "source": [
    "#Python will check the scope of the parent function before checking the global scope. \n",
    "#Scope: Builtin - Global - Local\n",
    "x = 7\n",
    "def foo():\n",
    "    x = 200\n",
    "    print(x)\n",
    "foo()\n",
    "print(x)"
   ]
  },
  {
   "cell_type": "code",
   "execution_count": 10,
   "id": "43ee9029-eb09-4f89-8fda-6cf17af89f04",
   "metadata": {},
   "outputs": [
    {
     "name": "stdout",
     "output_type": "stream",
     "text": [
      "7\n",
      "7\n"
     ]
    }
   ],
   "source": [
    "x = 7\n",
    "def foo():\n",
    "    global x\n",
    "    print(x)\n",
    "foo()\n",
    "print(x)"
   ]
  },
  {
   "cell_type": "code",
   "execution_count": 11,
   "id": "c36a098d-448d-4cbf-8b2a-e420555e5d54",
   "metadata": {},
   "outputs": [
    {
     "name": "stdout",
     "output_type": "stream",
     "text": [
      "200\n",
      "10\n"
     ]
    }
   ],
   "source": [
    "def foo():\n",
    "    x = 10\n",
    "\n",
    "    def bar():\n",
    "        x = 200\n",
    "        print(x)\n",
    "        \n",
    "    bar()\n",
    "    print(x)\n",
    "\n",
    "foo()"
   ]
  },
  {
   "cell_type": "code",
   "execution_count": 12,
   "id": "e2812996-d836-4ed7-a37f-d6dd6e75cf45",
   "metadata": {},
   "outputs": [
    {
     "name": "stdout",
     "output_type": "stream",
     "text": [
      "200\n",
      "200\n"
     ]
    }
   ],
   "source": [
    "def foo():\n",
    "    x = 10\n",
    "\n",
    "    def bar():\n",
    "        nonlocal x\n",
    "        x = 200\n",
    "        print(x)\n",
    "        \n",
    "    bar()\n",
    "    print(x)\n",
    "\n",
    "foo()"
   ]
  },
  {
   "cell_type": "markdown",
   "id": "ff9c5872-1688-4ab1-a6a8-7a14ec09ec8b",
   "metadata": {},
   "source": [
    "**9. Closures**"
   ]
  },
  {
   "cell_type": "code",
   "execution_count": 4,
   "id": "72d4a516-b041-44f8-96bb-3dbb09512a51",
   "metadata": {},
   "outputs": [
    {
     "name": "stdout",
     "output_type": "stream",
     "text": [
      "5\n"
     ]
    }
   ],
   "source": [
    "#Attaching nonlocal variables to nested functions\n",
    "def foo():\n",
    "    a = 5\n",
    "    def bar():\n",
    "        print(a)\n",
    "    return bar\n",
    "\n",
    "func = foo()\n",
    "func()"
   ]
  },
  {
   "cell_type": "code",
   "execution_count": 20,
   "id": "96e41d6a-b43c-4ffe-b01a-e429d11aa7e6",
   "metadata": {},
   "outputs": [
    {
     "data": {
      "text/plain": [
       "tuple"
      ]
     },
     "execution_count": 20,
     "metadata": {},
     "output_type": "execute_result"
    }
   ],
   "source": [
    "#closures: nonlocal variables attached to a returned function\n",
    "type(func.__closure__)"
   ]
  },
  {
   "cell_type": "code",
   "execution_count": 9,
   "id": "94247233-9a70-464d-ab8a-1e7929668fd3",
   "metadata": {},
   "outputs": [
    {
     "data": {
      "text/plain": [
       "5"
      ]
     },
     "execution_count": 9,
     "metadata": {},
     "output_type": "execute_result"
    }
   ],
   "source": [
    "func.__closure__[0].cell_contents"
   ]
  },
  {
   "cell_type": "code",
   "execution_count": 15,
   "id": "2bfceb61-437c-4850-a3ab-94af0108eed4",
   "metadata": {},
   "outputs": [
    {
     "name": "stdout",
     "output_type": "stream",
     "text": [
      "25\n"
     ]
    }
   ],
   "source": [
    "#closures and deletion\n",
    "x = 25\n",
    "\n",
    "def foo(value):\n",
    "    def bar():\n",
    "        print(value)\n",
    "    return bar\n",
    "\n",
    "my_func = foo(x)\n",
    "my_func()"
   ]
  },
  {
   "cell_type": "code",
   "execution_count": 16,
   "id": "161afad0-c328-4579-9955-8ea9c3c5af7a",
   "metadata": {},
   "outputs": [
    {
     "name": "stdout",
     "output_type": "stream",
     "text": [
      "25\n"
     ]
    }
   ],
   "source": [
    "#because foo() value argument gets added to the closure attached to the new \"my_func\" function.\n",
    "#even though x doesn't exist anymore.\n",
    "del(x)\n",
    "my_func()"
   ]
  },
  {
   "cell_type": "code",
   "execution_count": 18,
   "id": "f38024f7-4120-450c-9579-175a77a0d675",
   "metadata": {},
   "outputs": [
    {
     "data": {
      "text/plain": [
       "25"
      ]
     },
     "execution_count": 18,
     "metadata": {},
     "output_type": "execute_result"
    }
   ],
   "source": [
    "my_func.__closure__[0].cell_contents"
   ]
  },
  {
   "cell_type": "code",
   "execution_count": 19,
   "id": "216d33a6-aaf3-487d-9ce3-6ec731edd5cb",
   "metadata": {},
   "outputs": [],
   "source": [
    "#Nest function: a function defined inside another function.\n",
    "#Nonlocal variables: variables defined in the parent function that are used by the child function.\n",
    "def parent(arg1, arg2):\n",
    "    #'value' and 'my_dict' are nonlocal variables\n",
    "    value = 22\n",
    "    my_dict = {'chocolate': 'yummy'}\n",
    "\n",
    "    def child():\n",
    "        print(2 * value)\n",
    "        print(my_dict['chocolate'])\n",
    "    return child"
   ]
  },
  {
   "cell_type": "markdown",
   "id": "8ed7c95d-0262-4f69-afdb-bc45b6d3457e",
   "metadata": {},
   "source": [
    "**10. Decorators**"
   ]
  },
  {
   "cell_type": "code",
   "execution_count": 22,
   "id": "28dc1494-01cb-41a9-be85-445b9d6037e8",
   "metadata": {},
   "outputs": [
    {
     "ename": "NameError",
     "evalue": "name 'double_args' is not defined",
     "output_type": "error",
     "traceback": [
      "\u001b[1;31m---------------------------------------------------------------------------\u001b[0m",
      "\u001b[1;31mNameError\u001b[0m                                 Traceback (most recent call last)",
      "Cell \u001b[1;32mIn[22], line 3\u001b[0m\n\u001b[0;32m      1\u001b[0m \u001b[38;5;66;03m#Decorators: wrapper that you can place around a function that changes that function's behavior.\u001b[39;00m\n\u001b[0;32m      2\u001b[0m \u001b[38;5;66;03m#Example: modify inputs, outputs, and function\u001b[39;00m\n\u001b[1;32m----> 3\u001b[0m \u001b[38;5;129m@double_args\u001b[39m\n\u001b[0;32m      4\u001b[0m \u001b[38;5;28;01mdef\u001b[39;00m \u001b[38;5;21mmultiply\u001b[39m(a, b):\n\u001b[0;32m      5\u001b[0m     \u001b[38;5;28;01mreturn\u001b[39;00m a \u001b[38;5;241m*\u001b[39m b\n\u001b[0;32m      6\u001b[0m multiply(\u001b[38;5;241m1\u001b[39m, \u001b[38;5;241m5\u001b[39m)\n",
      "\u001b[1;31mNameError\u001b[0m: name 'double_args' is not defined"
     ]
    }
   ],
   "source": [
    "#Decorators: wrapper that you can place around a function that changes that function's behavior.\n",
    "#Example: modify inputs, outputs, and function\n",
    "#Decorators are functions that take a function as a argument and return a modified version of the function.\n",
    "@double_args\n",
    "def multiply(a, b):\n",
    "    return a * b\n",
    "\n",
    "multiply(1, 5)"
   ]
  },
  {
   "cell_type": "code",
   "execution_count": 24,
   "id": "9fa5f3eb-d466-4cb0-bad6-7e319cabdbe7",
   "metadata": {},
   "outputs": [
    {
     "data": {
      "text/plain": [
       "5"
      ]
     },
     "execution_count": 24,
     "metadata": {},
     "output_type": "execute_result"
    }
   ],
   "source": [
    "#The double_args decorator\n",
    "def multiply(a, b):\n",
    "    return a * b\n",
    "def double_args(func):\n",
    "    #Define a new function that we can modify\n",
    "    def wrapper(a, b):\n",
    "        return func(a, b)\n",
    "    return wrapper\n",
    "    \n",
    "new_func = double_args(multiply)\n",
    "new_func(1, 5)"
   ]
  },
  {
   "cell_type": "code",
   "execution_count": 25,
   "id": "9551b4ba-ebb6-4dea-ba28-88c479ce9308",
   "metadata": {},
   "outputs": [
    {
     "data": {
      "text/plain": [
       "20"
      ]
     },
     "execution_count": 25,
     "metadata": {},
     "output_type": "execute_result"
    }
   ],
   "source": [
    "def multiply(a, b):\n",
    "    return a * b\n",
    "def double_args(func):\n",
    "    #Define a new function that we can modify\n",
    "    def wrapper(a, b):\n",
    "        return func(a * 2, b * 2)\n",
    "    return wrapper\n",
    "    \n",
    "new_func = double_args(multiply)\n",
    "new_func(1, 5)"
   ]
  },
  {
   "cell_type": "code",
   "execution_count": 26,
   "id": "27e09a11-4417-46cf-8e08-93b878219296",
   "metadata": {},
   "outputs": [
    {
     "data": {
      "text/plain": [
       "20"
      ]
     },
     "execution_count": 26,
     "metadata": {},
     "output_type": "execute_result"
    }
   ],
   "source": [
    "def multiply(a, b):\n",
    "    return a * b\n",
    "def double_args(func):\n",
    "    #Define a new function that we can modify\n",
    "    def wrapper(a, b):\n",
    "        return func(a * 2, b * 2)\n",
    "    return wrapper\n",
    "    \n",
    "multiply = double_args(multiply)\n",
    "multiply(1, 5)"
   ]
  },
  {
   "cell_type": "code",
   "execution_count": 1,
   "id": "3bd69bcc-50ee-482f-a589-8671f0dd9629",
   "metadata": {},
   "outputs": [
    {
     "data": {
      "text/plain": [
       "80"
      ]
     },
     "execution_count": 1,
     "metadata": {},
     "output_type": "execute_result"
    }
   ],
   "source": [
    "#Decorator syntax\n",
    "def double_args(func):\n",
    "    #Define a new function that we can modify\n",
    "    def wrapper(a, b, c):\n",
    "        return func(a * 2, b * 2, c * 2)\n",
    "    return wrapper\n",
    "\n",
    "@double_args\n",
    "def multiply(a, b, c):\n",
    "    return a * b * c\n",
    "\n",
    "multiply(1, 5, 2)"
   ]
  },
  {
   "cell_type": "markdown",
   "id": "c5eef023-5892-4be1-b236-9ae3ae4ed7d4",
   "metadata": {},
   "source": [
    "**11. Real-world examples**"
   ]
  },
  {
   "cell_type": "code",
   "execution_count": 4,
   "id": "c73f4c74-74ea-47de-b331-5977c70b2345",
   "metadata": {},
   "outputs": [],
   "source": [
    "#timer\n",
    "import time\n",
    "\n",
    "def timer(func):\n",
    "    \"\"\"A decorator that prints how long a function took to run\"\"\"\n",
    "    def wrapper(*args, **kwargs):\n",
    "        t_start = time.time()\n",
    "        result = func(*args, **kwargs)\n",
    "        t_total = time.time() - t_start\n",
    "        print('{} took {}s'. format(func.__name__, t_total))\n",
    "        return result\n",
    "    return wrapper"
   ]
  },
  {
   "cell_type": "code",
   "execution_count": 3,
   "id": "2e3bc968-0e0b-44a9-9524-bfb1c615b501",
   "metadata": {},
   "outputs": [
    {
     "name": "stdout",
     "output_type": "stream",
     "text": [
      "sleep_n_seconds took 5.000476598739624s\n"
     ]
    }
   ],
   "source": [
    "@timer\n",
    "def sleep_n_seconds(n):\n",
    "    time.sleep(n)\n",
    "\n",
    "sleep_n_seconds(5)"
   ]
  },
  {
   "cell_type": "code",
   "execution_count": 17,
   "id": "095652c5-8901-46c1-b390-6fd189bdaa57",
   "metadata": {},
   "outputs": [],
   "source": [
    "#memory\n",
    "def memoize(func):\n",
    "    \"\"\"store the results of the decorated function for fast lookup\"\"\"\n",
    "    cache = {}\n",
    "    \n",
    "    def make_hashable(args, kwargs):\n",
    "        # Convert args to a tuple and kwargs to a sorted tuple of key-value pairs\n",
    "        return args, tuple(sorted(kwargs.items()))\n",
    "        \n",
    "    def wrapper(*args, **kwargs):\n",
    "        hashable_args = make_hashable(args, kwargs)\n",
    "        if hashable_args not in cache:\n",
    "            cache[hashable_args] = func(*args, **kwargs)\n",
    "        return cache[hashable_args]\n",
    "        \n",
    "    return wrapper"
   ]
  },
  {
   "cell_type": "code",
   "execution_count": 13,
   "id": "60c4f575-3199-435f-9a76-a558ac7985ae",
   "metadata": {},
   "outputs": [
    {
     "name": "stdout",
     "output_type": "stream",
     "text": [
      "Sleeping...\n"
     ]
    },
    {
     "data": {
      "text/plain": [
       "18"
      ]
     },
     "execution_count": 13,
     "metadata": {},
     "output_type": "execute_result"
    }
   ],
   "source": [
    "@memoize\n",
    "def slow_function(a, b):\n",
    "    print('Sleeping...')\n",
    "    time.sleep(5)\n",
    "    return a + b\n",
    "\n",
    "slow_function(10, 8)"
   ]
  },
  {
   "cell_type": "code",
   "execution_count": 14,
   "id": "9d569598-741d-4791-a334-705957a7beb6",
   "metadata": {},
   "outputs": [
    {
     "data": {
      "text/plain": [
       "18"
      ]
     },
     "execution_count": 14,
     "metadata": {},
     "output_type": "execute_result"
    }
   ],
   "source": [
    "slow_function(10, 8)"
   ]
  },
  {
   "cell_type": "code",
   "execution_count": 18,
   "id": "4b1317d9-6540-4a0f-8668-23caf5a64694",
   "metadata": {},
   "outputs": [],
   "source": [
    "#Consider using a decorator when you want to add some common bit of code to multiple functions.\n",
    "#It can help you avoid repeating issues."
   ]
  },
  {
   "cell_type": "markdown",
   "id": "92920a4c-281e-4bb0-8a7c-6890c65acce9",
   "metadata": {},
   "source": [
    "**12. Decorators and metadata**"
   ]
  },
  {
   "cell_type": "code",
   "execution_count": 19,
   "id": "fc32ed65-d994-4ddf-a387-9f2090d630c8",
   "metadata": {},
   "outputs": [
    {
     "name": "stdout",
     "output_type": "stream",
     "text": [
      "wrapper\n"
     ]
    }
   ],
   "source": [
    "print(slow_function.__name__)"
   ]
  },
  {
   "cell_type": "code",
   "execution_count": 20,
   "id": "75191e6b-58fd-4d88-88a9-469978957024",
   "metadata": {},
   "outputs": [],
   "source": [
    "from functools import wraps\n",
    "def timer(func):\n",
    "    \"\"\"A decorator that prints how long a function took to run\"\"\"\n",
    "\n",
    "    @wraps(func)\n",
    "    def wrapper(*args, **kwargs):\n",
    "        t_start = time.time()\n",
    "        result = func(*args, **kwargs)\n",
    "        t_total = time.time() - t_start\n",
    "        print('{} took {}s'. format(func.__name__, t_total))\n",
    "        return result\n",
    "    return wrapper"
   ]
  },
  {
   "cell_type": "code",
   "execution_count": 24,
   "id": "94abeaa6-5245-44a4-9422-5ee946bb6a20",
   "metadata": {},
   "outputs": [
    {
     "name": "stdout",
     "output_type": "stream",
     "text": [
      "sleep_n_seconds took 5.000201225280762s\n"
     ]
    }
   ],
   "source": [
    "@timer\n",
    "def sleep_n_seconds(n):\n",
    "    \"\"\"Pause processing for n seconds.\"\"\"\n",
    "    time.sleep(n)\n",
    "\n",
    "sleep_n_seconds(5)"
   ]
  },
  {
   "cell_type": "code",
   "execution_count": 25,
   "id": "fa441525-f946-4711-8489-173654753092",
   "metadata": {},
   "outputs": [
    {
     "name": "stdout",
     "output_type": "stream",
     "text": [
      "Pause processing for n seconds.\n"
     ]
    }
   ],
   "source": [
    "print(sleep_n_seconds.__doc__)"
   ]
  },
  {
   "cell_type": "code",
   "execution_count": 9,
   "id": "148cbe76-5240-4590-97f0-520b389fa457",
   "metadata": {},
   "outputs": [
    {
     "name": "stdout",
     "output_type": "stream",
     "text": [
      "Hello\n",
      "30\n",
      "Adds two numbers and prints the sum\n"
     ]
    }
   ],
   "source": [
    "#keep the function maintain metadata: @wraps\n",
    "from functools import wraps\n",
    "\n",
    "def add_hello(func):\n",
    "  # Decorate wrapper() so that it keeps func()'s metadata\n",
    "  @wraps(func)\n",
    "  def wrapper(*args, **kwargs):\n",
    "    \"\"\"Print 'hello' and then call the decorated function.\"\"\"\n",
    "    print('Hello')\n",
    "    return func(*args, **kwargs)\n",
    "  return wrapper\n",
    "  \n",
    "@add_hello\n",
    "def print_sum(a, b):\n",
    "  \"\"\"Adds two numbers and prints the sum\"\"\"\n",
    "  print(a + b)\n",
    "  \n",
    "print_sum(10, 20)\n",
    "print_sum_docstring = print_sum.__doc__\n",
    "print(print_sum_docstring)"
   ]
  },
  {
   "cell_type": "markdown",
   "id": "90a91c6e-69a0-4850-836c-5ed054f81425",
   "metadata": {},
   "source": [
    "**13. Decorators that take arguments**"
   ]
  },
  {
   "cell_type": "code",
   "execution_count": 4,
   "id": "e51f1c8c-f65b-44a9-a229-dea80cfd8972",
   "metadata": {},
   "outputs": [
    {
     "name": "stdout",
     "output_type": "stream",
     "text": [
      "10\n",
      "10\n",
      "10\n"
     ]
    }
   ],
   "source": [
    "#A decorator factory\n",
    "def run_n_times(n):\n",
    "    \"\"\"Define and return a decorator\"\"\"\n",
    "    def decorator(func):\n",
    "        def wrapper (*args, **kwargs):\n",
    "            for i in range(n):\n",
    "                func(*args, **kwargs)\n",
    "        return wrapper\n",
    "    return decorator\n",
    "\n",
    "@run_n_times(3)\n",
    "def print_sum(a, b):\n",
    "    print(a + b)\n",
    "\n",
    "print_sum(4, 6)"
   ]
  },
  {
   "cell_type": "markdown",
   "id": "98f3f85f-940b-45ad-92c3-0e58d7169989",
   "metadata": {},
   "source": [
    "**14. Timeout(): a real world example**"
   ]
  },
  {
   "cell_type": "code",
   "execution_count": 8,
   "id": "82d52e18-46f8-415c-81d7-3ecac1b0c662",
   "metadata": {},
   "outputs": [
    {
     "ename": "AttributeError",
     "evalue": "module 'signal' has no attribute 'alarm'",
     "output_type": "error",
     "traceback": [
      "\u001b[1;31m---------------------------------------------------------------------------\u001b[0m",
      "\u001b[1;31mAttributeError\u001b[0m                            Traceback (most recent call last)",
      "Cell \u001b[1;32mIn[8], line 23\u001b[0m\n\u001b[0;32m     20\u001b[0m     time\u001b[38;5;241m.\u001b[39msleep(\u001b[38;5;241m10\u001b[39m)\n\u001b[0;32m     21\u001b[0m     \u001b[38;5;28mprint\u001b[39m(\u001b[38;5;124m'\u001b[39m\u001b[38;5;124mfoo!\u001b[39m\u001b[38;5;124m'\u001b[39m)\n\u001b[1;32m---> 23\u001b[0m \u001b[43mfoo\u001b[49m\u001b[43m(\u001b[49m\u001b[43m)\u001b[49m\n",
      "Cell \u001b[1;32mIn[8], line 8\u001b[0m, in \u001b[0;36mtimeout_in_5s.<locals>.wrapper\u001b[1;34m(*args, **kwargs)\u001b[0m\n\u001b[0;32m      5\u001b[0m \u001b[38;5;129m@wraps\u001b[39m(func)\n\u001b[0;32m      6\u001b[0m \u001b[38;5;28;01mdef\u001b[39;00m \u001b[38;5;21mwrapper\u001b[39m (\u001b[38;5;241m*\u001b[39margs, \u001b[38;5;241m*\u001b[39m\u001b[38;5;241m*\u001b[39mkwargs):\n\u001b[0;32m      7\u001b[0m     \u001b[38;5;66;03m#set an alarm for 5 seconds\u001b[39;00m\n\u001b[1;32m----> 8\u001b[0m     \u001b[43msignal\u001b[49m\u001b[38;5;241;43m.\u001b[39;49m\u001b[43malarm\u001b[49m(\u001b[38;5;241m5\u001b[39m)\n\u001b[0;32m      9\u001b[0m     \u001b[38;5;28;01mtry\u001b[39;00m:\n\u001b[0;32m     10\u001b[0m         \u001b[38;5;66;03m#call the decorated func\u001b[39;00m\n\u001b[0;32m     11\u001b[0m         \u001b[38;5;28;01mreturn\u001b[39;00m func (\u001b[38;5;241m*\u001b[39margs, \u001b[38;5;241m*\u001b[39m\u001b[38;5;241m*\u001b[39mkwargs)\n",
      "\u001b[1;31mAttributeError\u001b[0m: module 'signal' has no attribute 'alarm'"
     ]
    }
   ],
   "source": [
    "import signal\n",
    "from functools import wraps\n",
    "\n",
    "def timeout_in_5s (func):\n",
    "    @wraps(func)\n",
    "    def wrapper (*args, **kwargs):\n",
    "        #set an alarm for 5 seconds\n",
    "        signal.alarm(5)\n",
    "        try:\n",
    "            #call the decorated func\n",
    "            return func (*args, **kwargs)\n",
    "        finally:\n",
    "            #cancel alarm\n",
    "            signal.alarm(0)\n",
    "    return wrapper\n",
    "\n",
    "\n",
    "@timeout_in_5s\n",
    "def foo():\n",
    "    time.sleep(10)\n",
    "    print('foo!')\n",
    "\n",
    "foo()"
   ]
  },
  {
   "cell_type": "code",
   "execution_count": null,
   "id": "cc0b88be-22ab-40c9-b32a-ea1c80ac544d",
   "metadata": {},
   "outputs": [],
   "source": []
  }
 ],
 "metadata": {
  "kernelspec": {
   "display_name": "Python 3 (ipykernel)",
   "language": "python",
   "name": "python3"
  },
  "language_info": {
   "codemirror_mode": {
    "name": "ipython",
    "version": 3
   },
   "file_extension": ".py",
   "mimetype": "text/x-python",
   "name": "python",
   "nbconvert_exporter": "python",
   "pygments_lexer": "ipython3",
   "version": "3.12.3"
  }
 },
 "nbformat": 4,
 "nbformat_minor": 5
}
