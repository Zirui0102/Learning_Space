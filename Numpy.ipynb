{
 "cells": [
  {
   "cell_type": "code",
   "execution_count": 6,
   "id": "0dc924fc-6b87-4ca1-88e4-2407eb2ba110",
   "metadata": {},
   "outputs": [],
   "source": [
    "import numpy as np\n",
    "import requests\n",
    "import matplotlib.pyplot as plt\n",
    "from PIL import Image\n",
    "from io import BytesIO"
   ]
  },
  {
   "cell_type": "code",
   "execution_count": 2,
   "id": "1b9dca8d-f5ad-4380-ad13-c742bde0b8c3",
   "metadata": {},
   "outputs": [
    {
     "data": {
      "text/plain": [
       "array([3, 2, 5, 8, 4, 3, 9, 6, 1])"
      ]
     },
     "execution_count": 2,
     "metadata": {},
     "output_type": "execute_result"
    }
   ],
   "source": [
    "#create a 1-dimensional array\n",
    "python_list = [3, 2, 5, 8, 4, 3, 9, 6, 1]\n",
    "array = np.array(python_list)\n",
    "array"
   ]
  },
  {
   "cell_type": "code",
   "execution_count": 3,
   "id": "fceee537-26d6-41b0-add7-facebe4bd2bc",
   "metadata": {},
   "outputs": [
    {
     "data": {
      "text/plain": [
       "numpy.ndarray"
      ]
     },
     "execution_count": 3,
     "metadata": {},
     "output_type": "execute_result"
    }
   ],
   "source": [
    "type(array)"
   ]
  },
  {
   "cell_type": "code",
   "execution_count": 4,
   "id": "d77cb06f-36c4-4513-b604-2d1bfa8d0f37",
   "metadata": {},
   "outputs": [
    {
     "data": {
      "text/plain": [
       "array([[3, 2, 5],\n",
       "       [9, 7, 1],\n",
       "       [4, 3, 6]])"
      ]
     },
     "execution_count": 4,
     "metadata": {},
     "output_type": "execute_result"
    }
   ],
   "source": [
    "#create a 2-dimensional array (tuple to show the desired array's shape)\n",
    "python_list_of_lists = [[3, 2, 5],\n",
    "                        [9, 7, 1],\n",
    "                        [4, 3, 6]]\n",
    "np.array(python_list_of_lists)"
   ]
  },
  {
   "cell_type": "code",
   "execution_count": 5,
   "id": "7459cadb-556f-4c1c-bc30-7501f1f5b36d",
   "metadata": {},
   "outputs": [
    {
     "data": {
      "text/plain": [
       "array([[0., 0., 0.],\n",
       "       [0., 0., 0.],\n",
       "       [0., 0., 0.],\n",
       "       [0., 0., 0.],\n",
       "       [0., 0., 0.]])"
      ]
     },
     "execution_count": 5,
     "metadata": {},
     "output_type": "execute_result"
    }
   ],
   "source": [
    "#np.zeros(()): creates an array full of zeros.\n",
    "np.zeros((5, 3))"
   ]
  },
  {
   "cell_type": "code",
   "execution_count": 6,
   "id": "6107c998-85c8-4a76-b7f9-a535a449e13a",
   "metadata": {},
   "outputs": [
    {
     "data": {
      "text/plain": [
       "array([[0.37193495, 0.7347905 , 0.31320777, 0.64646439],\n",
       "       [0.61016469, 0.45156492, 0.59783378, 0.52185139]])"
      ]
     },
     "execution_count": 6,
     "metadata": {},
     "output_type": "execute_result"
    }
   ],
   "source": [
    "#np.random.random(()): creates an array made up of random floats between zero and one.\n",
    "np.random.random((2, 4))"
   ]
  },
  {
   "cell_type": "code",
   "execution_count": 7,
   "id": "27ea7a43-1dc3-47a7-988f-2bbe7b1fa44e",
   "metadata": {},
   "outputs": [
    {
     "data": {
      "text/plain": [
       "array([-3, -2, -1,  0,  1,  2,  3])"
      ]
     },
     "execution_count": 7,
     "metadata": {},
     "output_type": "execute_result"
    }
   ],
   "source": [
    "#np.arange(): creates an evenly-spaced array of numbers based on given start and stop values.\n",
    "np.arange(-3, 4)"
   ]
  },
  {
   "cell_type": "code",
   "execution_count": 8,
   "id": "0269745d-b033-4fa0-b92d-06bb5b59a79a",
   "metadata": {},
   "outputs": [
    {
     "data": {
      "text/plain": [
       "array([0, 1, 2, 3])"
      ]
     },
     "execution_count": 8,
     "metadata": {},
     "output_type": "execute_result"
    }
   ],
   "source": [
    "np.arange(4)"
   ]
  },
  {
   "cell_type": "code",
   "execution_count": 9,
   "id": "22106ae9-3917-40d2-9da2-1717221991c3",
   "metadata": {},
   "outputs": [
    {
     "data": {
      "text/plain": [
       "array([-3,  0,  3])"
      ]
     },
     "execution_count": 9,
     "metadata": {},
     "output_type": "execute_result"
    }
   ],
   "source": [
    "np.arange(-3, 4, 3)"
   ]
  },
  {
   "cell_type": "code",
   "execution_count": 10,
   "id": "ec71a161-5ea4-4adb-9537-872abdd071ba",
   "metadata": {},
   "outputs": [
    {
     "data": {
      "image/png": "[encoded data removed]",
      "text/plain": [
       "<Figure size 640x480 with 1 Axes>"
      ]
     },
     "metadata": {},
     "output_type": "display_data"
    }
   ],
   "source": [
    "#np.arrange() is particularly useful for plotting.\n",
    "from matplotlib import pyplot as plt\n",
    "plt.scatter(np.arange(0, 7),\n",
    "            np.arange(-3, 4))\n",
    "plt.show()"
   ]
  },
  {
   "cell_type": "code",
   "execution_count": 12,
   "id": "90598282-582f-4245-9168-96e45d43f2ce",
   "metadata": {},
   "outputs": [
    {
     "data": {
      "text/plain": [
       "array([[[1, 2],\n",
       "        [5, 7]],\n",
       "\n",
       "       [[4, 6],\n",
       "        [8, 9]],\n",
       "\n",
       "       [[1, 3],\n",
       "        [4, 7]]])"
      ]
     },
     "execution_count": 12,
     "metadata": {},
     "output_type": "execute_result"
    }
   ],
   "source": [
    "#array dimensionality\n",
    "array_1_2D = np.array([[1, 2], [5, 7]])\n",
    "array_2_2D = np.array([[4, 6], [8, 9]])\n",
    "array_3_2D = np.array([[1, 3], [4, 7]])\n",
    "array_3D = np.array([array_1_2D, array_2_2D, array_3_2D])\n",
    "array_3D"
   ]
  },
  {
   "cell_type": "code",
   "execution_count": 13,
   "id": "39b98628-8314-4df9-8c24-61d85d2cd6a1",
   "metadata": {},
   "outputs": [],
   "source": [
    "#vector: has one dimension.\n",
    "#matrix: has two dimensions.\n",
    "#tensor: has three or more dimensions."
   ]
  },
  {
   "cell_type": "code",
   "execution_count": 15,
   "id": "68271f4a-de9b-4668-ac81-4df9779dcf02",
   "metadata": {},
   "outputs": [
    {
     "data": {
      "text/plain": [
       "(3, 5)"
      ]
     },
     "execution_count": 15,
     "metadata": {},
     "output_type": "execute_result"
    }
   ],
   "source": [
    "array = np.zeros((3, 5))\n",
    "array.shape"
   ]
  },
  {
   "cell_type": "code",
   "execution_count": 16,
   "id": "cbf4eb9c-b542-41ca-8091-0a7f363af01b",
   "metadata": {},
   "outputs": [
    {
     "data": {
      "text/plain": [
       "array([1, 2, 3, 4, 5, 6])"
      ]
     },
     "execution_count": 16,
     "metadata": {},
     "output_type": "execute_result"
    }
   ],
   "source": [
    "#np.flatten(): takes all array elements and puts them in one dimension\n",
    "array = np.array([[1, 2], [3, 4], [5, 6]])\n",
    "array.flatten()"
   ]
  },
  {
   "cell_type": "code",
   "execution_count": 18,
   "id": "1b78df4d-539a-4682-b736-710a7262199c",
   "metadata": {},
   "outputs": [
    {
     "data": {
      "text/plain": [
       "array([[1, 2, 3],\n",
       "       [4, 5, 6]])"
      ]
     },
     "execution_count": 18,
     "metadata": {},
     "output_type": "execute_result"
    }
   ],
   "source": [
    "#np.reshape(): redefine the shape of an array without changing the elements.\n",
    "array = np.array([[1, 2], [3, 4], [5, 6]])\n",
    "array.reshape((2, 3))"
   ]
  },
  {
   "cell_type": "code",
   "execution_count": 4,
   "id": "1d0cf864-782b-4904-b9ab-a62a9c5bb0dd",
   "metadata": {},
   "outputs": [],
   "source": [
    "decimal_number = 1043600000\n",
    "binary_representation = bin(decimal_number)"
   ]
  },
  {
   "cell_type": "code",
   "execution_count": 5,
   "id": "e9f74626-1d06-49f2-838d-832fecf01107",
   "metadata": {},
   "outputs": [
    {
     "data": {
      "text/plain": [
       "'0b111110001101000001001010000000'"
      ]
     },
     "execution_count": 5,
     "metadata": {},
     "output_type": "execute_result"
    }
   ],
   "source": [
    "binary_representation"
   ]
  },
  {
   "cell_type": "markdown",
   "id": "a716f6b0-14a7-43fa-852a-1c2d1b63707a",
   "metadata": {},
   "source": [
    "**Numpy data types**"
   ]
  },
  {
   "cell_type": "code",
   "execution_count": 9,
   "id": "90e331e3-fec6-41a7-95d5-84dde07606fc",
   "metadata": {},
   "outputs": [
    {
     "data": {
      "text/plain": [
       "dtype('float64')"
      ]
     },
     "execution_count": 9,
     "metadata": {},
     "output_type": "execute_result"
    }
   ],
   "source": [
    "#the .dtype attribute\n",
    "np.array([1.32, 5.78, 175.55]).dtype  #float64 is the default for numpy."
   ]
  },
  {
   "cell_type": "code",
   "execution_count": 11,
   "id": "06e8b23d-941f-44ac-bbda-4568e924b207",
   "metadata": {},
   "outputs": [
    {
     "data": {
      "text/plain": [
       "dtype('<U11')"
      ]
     },
     "execution_count": 11,
     "metadata": {},
     "output_type": "execute_result"
    }
   ],
   "source": [
    "#string data\n",
    "np.array([\"Hello World\"]).dtype"
   ]
  },
  {
   "cell_type": "code",
   "execution_count": 12,
   "id": "6735cf8b-e73e-4f08-8eee-96a7e93b334d",
   "metadata": {},
   "outputs": [
    {
     "data": {
      "text/plain": [
       "dtype('float32')"
      ]
     },
     "execution_count": 12,
     "metadata": {},
     "output_type": "execute_result"
    }
   ],
   "source": [
    "#dtype as an argument\n",
    "float32_array = np.array([1.32, 5.78, 175.55], dtype=np.float32)\n",
    "float32_array.dtype"
   ]
  },
  {
   "cell_type": "code",
   "execution_count": 17,
   "id": "f5d6070f-6992-4e27-964d-457aa16eec96",
   "metadata": {},
   "outputs": [
    {
     "data": {
      "text/plain": [
       "array([[1, 0],\n",
       "       [0, 0]])"
      ]
     },
     "execution_count": 17,
     "metadata": {},
     "output_type": "execute_result"
    }
   ],
   "source": [
    "#type conversion: convert the data type of elements within an array.\n",
    "boolean_array = np.array([[True, False], [False, False]], dtype=np.bool_)\n",
    "boolean_array.astype(np.int32)  #change array into an integer type."
   ]
  },
  {
   "cell_type": "code",
   "execution_count": 18,
   "id": "131d02ed-594d-40b8-bed2-5d3a3c742766",
   "metadata": {},
   "outputs": [
    {
     "data": {
      "text/plain": [
       "array(['True', 'Boop', '42', '42.42'], dtype='<U32')"
      ]
     },
     "execution_count": 18,
     "metadata": {},
     "output_type": "execute_result"
    }
   ],
   "source": [
    "#type coercsion: all data types change to string when mix datatype within an array.\n",
    "np.array([True, \"Boop\", 42, 42.42])"
   ]
  },
  {
   "cell_type": "code",
   "execution_count": 19,
   "id": "4b4f9e06-98c4-4058-b6fe-cb0469bad221",
   "metadata": {},
   "outputs": [
    {
     "data": {
      "text/plain": [
       "dtype('float64')"
      ]
     },
     "execution_count": 19,
     "metadata": {},
     "output_type": "execute_result"
    }
   ],
   "source": [
    "#adding a single float will change all integers into float.\n",
    "np.array([0, 42, 42.42]).dtype"
   ]
  },
  {
   "cell_type": "code",
   "execution_count": 20,
   "id": "24436911-b47b-469b-91b9-3f0a1a809898",
   "metadata": {},
   "outputs": [
    {
     "data": {
      "text/plain": [
       "dtype('int32')"
      ]
     },
     "execution_count": 20,
     "metadata": {},
     "output_type": "execute_result"
    }
   ],
   "source": [
    "#adding a integer will change all booleans into integers.\n",
    "np.array([True, False, 42]).dtype"
   ]
  },
  {
   "cell_type": "code",
   "execution_count": 21,
   "id": "aea384c8-9cd1-45a3-88dc-f62fb4a07067",
   "metadata": {},
   "outputs": [],
   "source": [
    "#pay attention to the type of the elements in your array because they can change without notice due to the type coercison."
   ]
  },
  {
   "cell_type": "markdown",
   "id": "115649fc-b9da-4c7d-8495-f064ce6d6d70",
   "metadata": {},
   "source": [
    "**Indexing and slicing arrays**"
   ]
  },
  {
   "cell_type": "code",
   "execution_count": 22,
   "id": "68e8d9b6-3936-4eb4-a53d-17083afb3bac",
   "metadata": {},
   "outputs": [
    {
     "data": {
      "text/plain": [
       "8"
      ]
     },
     "execution_count": 22,
     "metadata": {},
     "output_type": "execute_result"
    }
   ],
   "source": [
    "array = np.array([2, 4, 6, 8, 10])\n",
    "array[3]"
   ]
  },
  {
   "cell_type": "code",
   "execution_count": 28,
   "id": "ee0154c0-fe35-4c76-9805-559412eaf9fd",
   "metadata": {},
   "outputs": [
    {
     "data": {
      "text/plain": [
       "array([[2, 3, 2],\n",
       "       [4, 5, 4],\n",
       "       [6, 7, 6]])"
      ]
     },
     "execution_count": 28,
     "metadata": {},
     "output_type": "execute_result"
    }
   ],
   "source": [
    "list = [[2, 3, 2], [4, 5, 4], [6, 7, 6]]\n",
    "array = np.array(list)\n",
    "array"
   ]
  },
  {
   "cell_type": "code",
   "execution_count": 30,
   "id": "0d462c6d-76c6-490a-98f7-63bab672fd03",
   "metadata": {},
   "outputs": [
    {
     "data": {
      "text/plain": [
       "5"
      ]
     },
     "execution_count": 30,
     "metadata": {},
     "output_type": "execute_result"
    }
   ],
   "source": [
    "#array[row index, column index]\n",
    "array[1, 1]"
   ]
  },
  {
   "cell_type": "code",
   "execution_count": 31,
   "id": "6300bed2-bdc3-4fa6-9dcf-d91975018345",
   "metadata": {},
   "outputs": [
    {
     "data": {
      "text/plain": [
       "array([2, 3, 2])"
      ]
     },
     "execution_count": 31,
     "metadata": {},
     "output_type": "execute_result"
    }
   ],
   "source": [
    "#asking for index 0 will return the first row.\n",
    "array[0]"
   ]
  },
  {
   "cell_type": "code",
   "execution_count": 32,
   "id": "1082f334-d3b0-4864-aaf0-5163090e87a5",
   "metadata": {},
   "outputs": [
    {
     "data": {
      "text/plain": [
       "array([3, 5, 7])"
      ]
     },
     "execution_count": 32,
     "metadata": {},
     "output_type": "execute_result"
    }
   ],
   "source": [
    "#index a column\n",
    "array[:, 1]"
   ]
  },
  {
   "cell_type": "code",
   "execution_count": 33,
   "id": "5520cb03-49b0-4369-8ee0-811112d880b2",
   "metadata": {},
   "outputs": [
    {
     "data": {
      "text/plain": [
       "array([6, 8])"
      ]
     },
     "execution_count": 33,
     "metadata": {},
     "output_type": "execute_result"
    }
   ],
   "source": [
    "#slicing data\n",
    "array = np.array([2, 4, 6, 8, 10])\n",
    "array[2:4]"
   ]
  },
  {
   "cell_type": "code",
   "execution_count": 3,
   "id": "42bdd274-b1cc-4375-89da-3fb7f386178d",
   "metadata": {},
   "outputs": [
    {
     "data": {
      "text/plain": [
       "array([[2, 3, 2],\n",
       "       [4, 5, 4],\n",
       "       [6, 7, 6]])"
      ]
     },
     "execution_count": 3,
     "metadata": {},
     "output_type": "execute_result"
    }
   ],
   "source": [
    "#slicing data in 2D\n",
    "list = [[2, 3, 2], [4, 5, 4], [6, 7, 6]]\n",
    "array = np.array(list)\n",
    "array"
   ]
  },
  {
   "cell_type": "code",
   "execution_count": 4,
   "id": "ab37a936-4d42-4667-b222-7fdb270b2d49",
   "metadata": {},
   "outputs": [
    {
     "data": {
      "text/plain": [
       "array([[2, 3],\n",
       "       [4, 5]])"
      ]
     },
     "execution_count": 4,
     "metadata": {},
     "output_type": "execute_result"
    }
   ],
   "source": [
    "array[0:2, 0:2]"
   ]
  },
  {
   "cell_type": "code",
   "execution_count": 5,
   "id": "efe1272b-bdb4-4537-b5df-dcadb71645eb",
   "metadata": {},
   "outputs": [
    {
     "data": {
      "text/plain": [
       "array([[9, 5, 8],\n",
       "       [4, 5, 1],\n",
       "       [6, 7, 2]])"
      ]
     },
     "execution_count": 5,
     "metadata": {},
     "output_type": "execute_result"
    }
   ],
   "source": [
    "list = [[9,5,8], [4, 5, 1], [6, 7, 2]]\n",
    "array = np.array(list)\n",
    "array"
   ]
  },
  {
   "cell_type": "code",
   "execution_count": 6,
   "id": "1f5e66f6-97aa-4fb8-8faa-2d840be0dfe4",
   "metadata": {},
   "outputs": [
    {
     "data": {
      "text/plain": [
       "array([[5, 8, 9],\n",
       "       [1, 4, 5],\n",
       "       [2, 6, 7]])"
      ]
     },
     "execution_count": 6,
     "metadata": {},
     "output_type": "execute_result"
    }
   ],
   "source": [
    "#sorting arrays by row\n",
    "np.sort(array)"
   ]
  },
  {
   "cell_type": "code",
   "execution_count": 7,
   "id": "1ff1bde6-0f03-4310-9954-661f58e4bffa",
   "metadata": {},
   "outputs": [
    {
     "data": {
      "text/plain": [
       "array([[4, 5, 1],\n",
       "       [6, 5, 2],\n",
       "       [9, 7, 8]])"
      ]
     },
     "execution_count": 7,
     "metadata": {},
     "output_type": "execute_result"
    }
   ],
   "source": [
    "#sorting arrays by row\n",
    "np.sort(array, axis=0)"
   ]
  },
  {
   "cell_type": "markdown",
   "id": "89631e67-a530-447b-ac76-a1a659b4cc04",
   "metadata": {},
   "source": [
    "**Flitering arrays**"
   ]
  },
  {
   "cell_type": "code",
   "execution_count": 8,
   "id": "97430c51-6f10-4f1d-a9d0-82261a44cfaa",
   "metadata": {},
   "outputs": [
    {
     "data": {
      "text/plain": [
       "array([1, 2, 3, 4, 5])"
      ]
     },
     "execution_count": 8,
     "metadata": {},
     "output_type": "execute_result"
    }
   ],
   "source": [
    "one_to_five = np.arange(1, 6)\n",
    "one_to_five"
   ]
  },
  {
   "cell_type": "code",
   "execution_count": 10,
   "id": "b0b02460-99c2-4e5c-8c28-dc1c9e930a1e",
   "metadata": {},
   "outputs": [
    {
     "data": {
      "text/plain": [
       "array([2, 4])"
      ]
     },
     "execution_count": 10,
     "metadata": {},
     "output_type": "execute_result"
    }
   ],
   "source": [
    "mask = one_to_five % 2 == 0\n",
    "mask\n",
    "\n",
    "#fancy indexing: return a filtered array which meet a condition.\n",
    "one_to_five[mask]  #only 2 and 4 are evenly divisible by two."
   ]
  },
  {
   "cell_type": "code",
   "execution_count": 13,
   "id": "80929eee-10a5-4d0c-bbab-060c986145f5",
   "metadata": {},
   "outputs": [
    {
     "data": {
      "text/plain": [
       "array([[ 1, 22],\n",
       "       [ 2, 21],\n",
       "       [ 3, 27],\n",
       "       [ 4, 26]])"
      ]
     },
     "execution_count": 13,
     "metadata": {},
     "output_type": "execute_result"
    }
   ],
   "source": [
    "#2D fnacy indexing\n",
    "classroom_ids_and_sizes = np.array([[1, 22], [2, 21], [3, 27], [4, 26]])\n",
    "classroom_ids_and_sizes"
   ]
  },
  {
   "cell_type": "code",
   "execution_count": 15,
   "id": "d50c985d-dd9b-411c-8854-7ef50c1aaca1",
   "metadata": {},
   "outputs": [
    {
     "data": {
      "text/plain": [
       "array([1, 4])"
      ]
     },
     "execution_count": 15,
     "metadata": {},
     "output_type": "execute_result"
    }
   ],
   "source": [
    "classroom_ids_and_sizes[:, 0][classroom_ids_and_sizes[:, 1] % 2 == 0]"
   ]
  },
  {
   "cell_type": "code",
   "execution_count": 17,
   "id": "d5767dd5-e5f6-4fc2-a69c-5832274c78e3",
   "metadata": {},
   "outputs": [
    {
     "data": {
      "text/plain": [
       "(array([0, 3], dtype=int64),)"
      ]
     },
     "execution_count": 17,
     "metadata": {},
     "output_type": "execute_result"
    }
   ],
   "source": [
    "#np.where () returns a tuple of arrays.\n",
    "np.where(classroom_ids_and_sizes[:, 1] % 2 == 0)"
   ]
  },
  {
   "cell_type": "code",
   "execution_count": 22,
   "id": "959950ed-b80a-4b0d-a3a5-20edf21681c2",
   "metadata": {},
   "outputs": [
    {
     "data": {
      "text/plain": [
       "array([[0, 3, 7, 1],\n",
       "       [4, 0, 9, 1],\n",
       "       [4, 5, 8, 0]])"
      ]
     },
     "execution_count": 22,
     "metadata": {},
     "output_type": "execute_result"
    }
   ],
   "source": [
    "array = np.array([[0, 3, 7, 1], [4, 0, 9, 1], [4, 5, 8, 0]])\n",
    "array"
   ]
  },
  {
   "cell_type": "code",
   "execution_count": 23,
   "id": "4d25d744-5ec5-4e22-80a3-1800cf8e1430",
   "metadata": {},
   "outputs": [
    {
     "data": {
      "text/plain": [
       "(array([0, 1, 2], dtype=int64), array([0, 1, 3], dtype=int64))"
      ]
     },
     "execution_count": 23,
     "metadata": {},
     "output_type": "execute_result"
    }
   ],
   "source": [
    "row_ind, column_ind = np.where(array == 0)\n",
    "row_ind, column_ind"
   ]
  },
  {
   "cell_type": "code",
   "execution_count": 30,
   "id": "9997defb-3471-45a7-b5e6-18fa8d236e13",
   "metadata": {},
   "outputs": [
    {
     "data": {
      "text/plain": [
       "array([[0, 3, 7, 1],\n",
       "       [4, 0, 9, 1],\n",
       "       [4, 5, 8, 0]])"
      ]
     },
     "execution_count": 30,
     "metadata": {},
     "output_type": "execute_result"
    }
   ],
   "source": [
    "array = np.array([[0, 3, 7, 1], [4, 0, 9, 1], [4, 5, 8, 0]])\n",
    "array"
   ]
  },
  {
   "cell_type": "code",
   "execution_count": 31,
   "id": "e01d4bbb-bc4f-424a-a59b-93b6fc9823e3",
   "metadata": {},
   "outputs": [
    {
     "data": {
      "text/plain": [
       "array([['', '3', '7', '1'],\n",
       "       ['4', '', '9', '1'],\n",
       "       ['4', '5', '8', '']], dtype='<U11')"
      ]
     },
     "execution_count": 31,
     "metadata": {},
     "output_type": "execute_result"
    }
   ],
   "source": [
    "#convert all 0 to ''\n",
    "np.where(array == 0, \"\", array)"
   ]
  },
  {
   "cell_type": "code",
   "execution_count": 27,
   "id": "0e3c7856-4556-4255-bf2f-143cffbce004",
   "metadata": {},
   "outputs": [
    {
     "name": "stdout",
     "output_type": "stream",
     "text": [
      "Original array:\n",
      "[ 1 12  5 18  7 10 20  3]\n",
      "Modified array (elements > 10 replaced with 0):\n",
      "[ 1  0  5  0  7 10  0  3]\n"
     ]
    }
   ],
   "source": [
    "# Create a NumPy array\n",
    "array = np.array([1, 12, 5, 18, 7, 10, 20, 3])\n",
    "\n",
    "print(\"Original array:\")\n",
    "print(array)\n",
    "\n",
    "# Use np.where() to find elements greater than 10 and replace them with 0\n",
    "new_array = np.where(array > 10, 0, array)\n",
    "\n",
    "print(\"Modified array (elements > 10 replaced with 0):\")\n",
    "print(new_array)"
   ]
  },
  {
   "cell_type": "markdown",
   "id": "1460d43b-3bf6-477d-b67b-fdb84f361c78",
   "metadata": {},
   "source": [
    "**Adding and removing data**"
   ]
  },
  {
   "cell_type": "code",
   "execution_count": 52,
   "id": "4da41b23-bef3-4c70-a07a-385e4e8e0494",
   "metadata": {},
   "outputs": [
    {
     "data": {
      "text/plain": [
       "array([[ 1, 22],\n",
       "       [ 2, 21],\n",
       "       [ 3, 27],\n",
       "       [ 4, 26],\n",
       "       [ 5, 30],\n",
       "       [ 6, 17]])"
      ]
     },
     "execution_count": 52,
     "metadata": {},
     "output_type": "execute_result"
    }
   ],
   "source": [
    "#concatenating rows (concatenates along the first axis (axis 0) by default)\n",
    "classroom_ids_and_sizes = np.array([[1, 22], [2, 21], [3, 27], [4, 26]])\n",
    "new_classrooms = np.array([[5, 30], [6, 17]])\n",
    "array = np.concatenate((classroom_ids_and_sizes, new_classrooms))\n",
    "array"
   ]
  },
  {
   "cell_type": "code",
   "execution_count": 53,
   "id": "998f47d1-d2cf-41e8-9f56-b5e9b971ba8a",
   "metadata": {},
   "outputs": [
    {
     "data": {
      "text/plain": [
       "((4, 2), (6, 2))"
      ]
     },
     "execution_count": 53,
     "metadata": {},
     "output_type": "execute_result"
    }
   ],
   "source": [
    "classroom_ids_and_sizes.shape, array.shape"
   ]
  },
  {
   "cell_type": "code",
   "execution_count": 49,
   "id": "932dfdbc-130b-4a2c-a976-0d5287f9606c",
   "metadata": {},
   "outputs": [
    {
     "data": {
      "text/plain": [
       "array([['1', '22', '1', 'James'],\n",
       "       ['2', '21', '2', 'Terry'],\n",
       "       ['3', '27', '3', 'Herbert'],\n",
       "       ['4', '26', '4', 'Amy']], dtype='<U11')"
      ]
     },
     "execution_count": 49,
     "metadata": {},
     "output_type": "execute_result"
    }
   ],
   "source": [
    "#concatenating columns\n",
    "classroom_ids_and_sizes = np.array([[1, 22], [2, 21], [3, 27], [4, 26]])\n",
    "grade_levels_and_teachers = np.array([[1, \"James\"], [2, \"Terry\"], [3, \"Herbert\"], [4, \"Amy\"]])\n",
    "array_new = np.concatenate((classroom_ids_and_sizes, grade_levels_and_teachers), axis=1)\n",
    "array_new"
   ]
  },
  {
   "cell_type": "code",
   "execution_count": 45,
   "id": "353548ee-5976-4a29-9e8f-4cba69f6c10b",
   "metadata": {},
   "outputs": [
    {
     "data": {
      "text/plain": [
       "array([[1],\n",
       "       [2],\n",
       "       [3]])"
      ]
     },
     "execution_count": 45,
     "metadata": {},
     "output_type": "execute_result"
    }
   ],
   "source": [
    "#creating compatibility\n",
    "array_1D = np.array([1, 2, 3])\n",
    "column_array_2D = array_1D.reshape((3, 1))\n",
    "column_array_2D"
   ]
  },
  {
   "cell_type": "code",
   "execution_count": 46,
   "id": "91d6247f-61a5-486b-bfbf-102f69732a47",
   "metadata": {},
   "outputs": [
    {
     "data": {
      "text/plain": [
       "array([[1, 2, 3]])"
      ]
     },
     "execution_count": 46,
     "metadata": {},
     "output_type": "execute_result"
    }
   ],
   "source": [
    "row_array_2D = array_1D.reshape((1, 3))\n",
    "row_array_2D"
   ]
  },
  {
   "cell_type": "code",
   "execution_count": 51,
   "id": "234a64a5-c7cb-401e-8aed-5a645a89b803",
   "metadata": {},
   "outputs": [
    {
     "data": {
      "text/plain": [
       "array([['2', '21', '2', 'Terry'],\n",
       "       ['3', '27', '3', 'Herbert'],\n",
       "       ['4', '26', '4', 'Amy']], dtype='<U11')"
      ]
     },
     "execution_count": 51,
     "metadata": {},
     "output_type": "execute_result"
    }
   ],
   "source": [
    "#Deleting with np.delete()\n",
    "np.delete(array_new, 0, axis=0)"
   ]
  },
  {
   "cell_type": "markdown",
   "id": "2da6511e-c312-49d9-ac68-e0d1b18c744a",
   "metadata": {},
   "source": [
    "**Summarizing data**"
   ]
  },
  {
   "cell_type": "code",
   "execution_count": 33,
   "id": "acfe2735-21e2-4229-8c45-e6d6ad7b003e",
   "metadata": {},
   "outputs": [
    {
     "data": {
      "text/plain": [
       "array([[1, 2, 3],\n",
       "       [4, 5, 6]])"
      ]
     },
     "execution_count": 33,
     "metadata": {},
     "output_type": "execute_result"
    }
   ],
   "source": [
    "array = np.array([[1, 2, 3], [4, 5, 6]])\n",
    "array"
   ]
  },
  {
   "cell_type": "code",
   "execution_count": 6,
   "id": "ac1dad6d-5c4f-4f6a-8372-d5a1cfd53bf3",
   "metadata": {},
   "outputs": [
    {
     "data": {
      "text/plain": [
       "21"
      ]
     },
     "execution_count": 6,
     "metadata": {},
     "output_type": "execute_result"
    }
   ],
   "source": [
    "#summing data: \n",
    "#.sum(): add up all elements in the entire array\n",
    "array.sum()"
   ]
  },
  {
   "cell_type": "code",
   "execution_count": 7,
   "id": "b717e671-1244-4fba-bb1f-af5b0806149e",
   "metadata": {},
   "outputs": [
    {
     "data": {
      "text/plain": [
       "array([5, 7, 9])"
      ]
     },
     "execution_count": 7,
     "metadata": {},
     "output_type": "execute_result"
    }
   ],
   "source": [
    "#aggregating rows:\n",
    "array.sum(axis=0)"
   ]
  },
  {
   "cell_type": "code",
   "execution_count": 8,
   "id": "a5ad31b6-62a2-417c-8a01-90c156ce7c70",
   "metadata": {},
   "outputs": [
    {
     "data": {
      "text/plain": [
       "array([ 6, 15])"
      ]
     },
     "execution_count": 8,
     "metadata": {},
     "output_type": "execute_result"
    }
   ],
   "source": [
    "#aggregating columns\n",
    "array.sum(axis=1)"
   ]
  },
  {
   "cell_type": "code",
   "execution_count": 10,
   "id": "090cd45e-cbb4-4fdf-b8fb-9792854daa44",
   "metadata": {},
   "outputs": [
    {
     "name": "stdout",
     "output_type": "stream",
     "text": [
      "1 6\n"
     ]
    }
   ],
   "source": [
    "#minimum and maximum values\n",
    "print(array.min(), array.max())"
   ]
  },
  {
   "cell_type": "code",
   "execution_count": 11,
   "id": "fce8b7a6-9a16-484c-9004-05d8f05cd94e",
   "metadata": {},
   "outputs": [
    {
     "data": {
      "text/plain": [
       "array([3, 6])"
      ]
     },
     "execution_count": 11,
     "metadata": {},
     "output_type": "execute_result"
    }
   ],
   "source": [
    "array.max(axis=1)"
   ]
  },
  {
   "cell_type": "code",
   "execution_count": 12,
   "id": "ea29edeb-5e0b-4068-8a83-1f92ca911ca7",
   "metadata": {},
   "outputs": [
    {
     "data": {
      "text/plain": [
       "3.5"
      ]
     },
     "execution_count": 12,
     "metadata": {},
     "output_type": "execute_result"
    }
   ],
   "source": [
    "#find the mean\n",
    "array.mean()"
   ]
  },
  {
   "cell_type": "code",
   "execution_count": 13,
   "id": "e19a83b1-36c2-4853-91be-c9071290d60a",
   "metadata": {},
   "outputs": [
    {
     "data": {
      "text/plain": [
       "array([2., 5.])"
      ]
     },
     "execution_count": 13,
     "metadata": {},
     "output_type": "execute_result"
    }
   ],
   "source": [
    "array.mean(axis=1)"
   ]
  },
  {
   "cell_type": "code",
   "execution_count": 17,
   "id": "2127d3e7-0534-4d53-807c-baa3707d0ee3",
   "metadata": {},
   "outputs": [
    {
     "data": {
      "text/plain": [
       "array([[ 6],\n",
       "       [15]])"
      ]
     },
     "execution_count": 17,
     "metadata": {},
     "output_type": "execute_result"
    }
   ],
   "source": [
    "#the keepdims argument: maintain the same number of dimensions as the input array.\n",
    "#If this is set to True, the axes which are reduced are left in the result as dimensions with size one.\n",
    "array.sum(axis=1, keepdims=True)"
   ]
  },
  {
   "cell_type": "code",
   "execution_count": 18,
   "id": "25d92d15-c952-48fc-8eb4-7d79a9aa556c",
   "metadata": {},
   "outputs": [
    {
     "data": {
      "text/plain": [
       "array([[1, 2, 3],\n",
       "       [5, 7, 9]])"
      ]
     },
     "execution_count": 18,
     "metadata": {},
     "output_type": "execute_result"
    }
   ],
   "source": [
    "#cumulative sums\n",
    "#.cumsum(): return the cumulative sum of elements along a given axis.\n",
    "array.cumsum(axis=0)"
   ]
  },
  {
   "cell_type": "code",
   "execution_count": 28,
   "id": "db740528-d878-4379-b341-3a26dd7519c5",
   "metadata": {},
   "outputs": [
    {
     "data": {
      "image/png": "[encoded data removed]",
      "text/plain": [
       "<Figure size 640x480 with 1 Axes>"
      ]
     },
     "metadata": {},
     "output_type": "display_data"
    }
   ],
   "source": [
    "#graphing summary values\n",
    "array_cum = array.cumsum(axis=0)\n",
    "plt.plot(np.arange(1, 3), array_cum[:, 0], label=\"1\")\n",
    "plt.plot(np.arange(1, 3), array_cum.mean(axis=1), label=\"average\")\n",
    "plt.legend()\n",
    "plt.show()"
   ]
  },
  {
   "cell_type": "markdown",
   "id": "d4b13dc6-5ac4-455d-aff0-e9cc7e6b2d28",
   "metadata": {},
   "source": [
    "**Vectorized operations**"
   ]
  },
  {
   "cell_type": "code",
   "execution_count": 30,
   "id": "e4f96e6f-ede4-4269-b7fb-1b2c945153ec",
   "metadata": {},
   "outputs": [
    {
     "data": {
      "text/plain": [
       "704982704"
      ]
     },
     "execution_count": 30,
     "metadata": {},
     "output_type": "execute_result"
    }
   ],
   "source": [
    "np.arange(100000).sum()"
   ]
  },
  {
   "cell_type": "code",
   "execution_count": 34,
   "id": "5fda4b23-4028-4c35-b774-3e1ef80ece49",
   "metadata": {},
   "outputs": [],
   "source": [
    "#speed compared to Python\n",
    "#original: add 3 to each elements\n",
    "array = np.array([[1, 2, 3], [4, 5, 6]])\n",
    "for row in range(array.shape[0]):\n",
    "    for column in range(array.shape[1]):\n",
    "        array[row][column] += 3"
   ]
  },
  {
   "cell_type": "code",
   "execution_count": 35,
   "id": "37057f33-c3fc-4ffc-9b9f-e0e5739d167b",
   "metadata": {},
   "outputs": [
    {
     "data": {
      "text/plain": [
       "array([[4, 5, 6],\n",
       "       [7, 8, 9]])"
      ]
     },
     "execution_count": 35,
     "metadata": {},
     "output_type": "execute_result"
    }
   ],
   "source": [
    "array"
   ]
  },
  {
   "cell_type": "code",
   "execution_count": 36,
   "id": "d4999c8f-124e-4cce-96f0-c713ca863b41",
   "metadata": {},
   "outputs": [
    {
     "data": {
      "text/plain": [
       "array([[4, 5, 6],\n",
       "       [7, 8, 9]])"
      ]
     },
     "execution_count": 36,
     "metadata": {},
     "output_type": "execute_result"
    }
   ],
   "source": [
    "#numpy syntax (3 is a scaler)\n",
    "array = np.array([[1, 2, 3], [4, 5, 6]])\n",
    "array + 3"
   ]
  },
  {
   "cell_type": "code",
   "execution_count": 37,
   "id": "e667da55-dd20-4d06-b1e9-952800a8bb29",
   "metadata": {},
   "outputs": [
    {
     "data": {
      "text/plain": [
       "array([[ 3,  6,  9],\n",
       "       [12, 15, 18]])"
      ]
     },
     "execution_count": 37,
     "metadata": {},
     "output_type": "execute_result"
    }
   ],
   "source": [
    "#multiply by a scalar\n",
    "array = np.array([[1, 2, 3], [4, 5, 6]])\n",
    "array * 3"
   ]
  },
  {
   "cell_type": "code",
   "execution_count": 38,
   "id": "417f268b-c324-4da7-91f6-d5100fe2cde2",
   "metadata": {},
   "outputs": [
    {
     "data": {
      "text/plain": [
       "array([[1, 3, 3],\n",
       "       [4, 6, 6]])"
      ]
     },
     "execution_count": 38,
     "metadata": {},
     "output_type": "execute_result"
    }
   ],
   "source": [
    "#add two arrays together\n",
    "array_a = np.array([[1, 2, 3], [4, 5, 6]])\n",
    "array_b = np.array([[0, 1, 0], [0, 1, 0]])\n",
    "array_a + array_b"
   ]
  },
  {
   "cell_type": "code",
   "execution_count": 39,
   "id": "3712b2a5-7d00-4cad-802c-5244cd35b37e",
   "metadata": {},
   "outputs": [
    {
     "data": {
      "text/plain": [
       "array([[0, 2, 0],\n",
       "       [0, 5, 0]])"
      ]
     },
     "execution_count": 39,
     "metadata": {},
     "output_type": "execute_result"
    }
   ],
   "source": [
    "#multiply two arrays together\n",
    "array_a = np.array([[1, 2, 3], [4, 5, 6]])\n",
    "array_b = np.array([[0, 1, 0], [0, 1, 0]])\n",
    "array_a * array_b"
   ]
  },
  {
   "cell_type": "code",
   "execution_count": 40,
   "id": "e6e2411e-d4f3-4c5d-8017-1e4cd056c7ca",
   "metadata": {},
   "outputs": [
    {
     "data": {
      "text/plain": [
       "array([[False, False,  True],\n",
       "       [ True,  True,  True]])"
      ]
     },
     "execution_count": 40,
     "metadata": {},
     "output_type": "execute_result"
    }
   ],
   "source": [
    "#not just for math\n",
    "array = np.array([[1, 2, 3], [4, 5, 6]])\n",
    "array > 2"
   ]
  },
  {
   "cell_type": "code",
   "execution_count": 42,
   "id": "9582ada5-d285-4089-aa08-e5d3a864f735",
   "metadata": {},
   "outputs": [
    {
     "data": {
      "text/plain": [
       "array(['Numpy', 'is', 'awesome'], dtype='<U7')"
      ]
     },
     "execution_count": 42,
     "metadata": {},
     "output_type": "execute_result"
    }
   ],
   "source": [
    "#vectorize python code\n",
    "array = np.array([\"Numpy\", 'is', 'awesome'])\n",
    "len(array) > 2"
   ]
  },
  {
   "cell_type": "code",
   "execution_count": 43,
   "id": "8c8b2570-370b-451a-813e-b1fc55a7cc38",
   "metadata": {},
   "outputs": [
    {
     "data": {
      "text/plain": [
       "array([ True, False,  True])"
      ]
     },
     "execution_count": 43,
     "metadata": {},
     "output_type": "execute_result"
    }
   ],
   "source": [
    "vectorized_len = np.vectorize(len)\n",
    "vectorized_len(array) > 2"
   ]
  },
  {
   "cell_type": "code",
   "execution_count": 44,
   "id": "505b7d17-cefd-41de-9092-fbb627b3766c",
   "metadata": {},
   "outputs": [],
   "source": [
    "names = np.array([[\"Izzy\", \"Monica\", \"Marvin\"],\n",
    "                  [\"Weber\", \"Patel\", \"Hernandez\"]])\n",
    "names.upper()"
   ]
  },
  {
   "cell_type": "code",
   "execution_count": 45,
   "id": "ad10110f-9ce7-447e-88bc-f2c441df0f08",
   "metadata": {},
   "outputs": [
    {
     "data": {
      "text/plain": [
       "array([['Izzy', 'Monica', 'Marvin'],\n",
       "       ['Weber', 'Patel', 'Hernandez']], dtype='<U9')"
      ]
     },
     "execution_count": 45,
     "metadata": {},
     "output_type": "execute_result"
    }
   ],
   "source": [
    "names\n",
    "names.upper()"
   ]
  },
  {
   "cell_type": "markdown",
   "id": "343c30f9-78a8-4641-87ff-c6263c5b518e",
   "metadata": {},
   "source": [
    "**Broadcasting**"
   ]
  },
  {
   "cell_type": "code",
   "execution_count": 3,
   "id": "6771c7ba-d5b5-4f82-af04-fc9dfc926da7",
   "metadata": {},
   "outputs": [
    {
     "data": {
      "text/plain": [
       "array([[ 0,  2,  4,  6,  8],\n",
       "       [ 5,  7,  9, 11, 13]])"
      ]
     },
     "execution_count": 3,
     "metadata": {},
     "output_type": "execute_result"
    }
   ],
   "source": [
    "array = np.arange(10).reshape((2, 5))\n",
    "array + np.array([0, 1, 2, 3, 4])"
   ]
  },
  {
   "cell_type": "code",
   "execution_count": 5,
   "id": "b964f076-6b5e-4453-8a87-391adf7ab634",
   "metadata": {},
   "outputs": [
    {
     "data": {
      "text/plain": [
       "array([[ 0,  1,  2,  3,  4],\n",
       "       [ 6,  7,  8,  9, 10]])"
      ]
     },
     "execution_count": 5,
     "metadata": {},
     "output_type": "execute_result"
    }
   ],
   "source": [
    "array = np.arange(10).reshape((2, 5))\n",
    "array + np.array([0, 1]).reshape((2, 1))"
   ]
  },
  {
   "cell_type": "markdown",
   "id": "948bdf7f-fc9a-4760-ad7f-8958fd6f2e8d",
   "metadata": {},
   "source": [
    "**Saving and loading arrays**"
   ]
  },
  {
   "cell_type": "code",
   "execution_count": 6,
   "id": "16a18551-fa95-444f-9d1b-06433ac99fec",
   "metadata": {},
   "outputs": [
    {
     "ename": "FileNotFoundError",
     "evalue": "[Errno 2] No such file or directory: 'logo.npy'",
     "output_type": "error",
     "traceback": [
      "\u001b[1;31m---------------------------------------------------------------------------\u001b[0m",
      "\u001b[1;31mFileNotFoundError\u001b[0m                         Traceback (most recent call last)",
      "Cell \u001b[1;32mIn[6], line 3\u001b[0m\n\u001b[0;32m      1\u001b[0m \u001b[38;5;66;03m#loading .npy files\u001b[39;00m\n\u001b[0;32m      2\u001b[0m \u001b[38;5;66;03m#\"logo.npy\": file address; \"rb\": read binary.\u001b[39;00m\n\u001b[1;32m----> 3\u001b[0m \u001b[38;5;28;01mwith\u001b[39;00m \u001b[38;5;28;43mopen\u001b[39;49m\u001b[43m(\u001b[49m\u001b[38;5;124;43m\"\u001b[39;49m\u001b[38;5;124;43mlogo.npy\u001b[39;49m\u001b[38;5;124;43m\"\u001b[39;49m\u001b[43m,\u001b[49m\u001b[43m \u001b[49m\u001b[38;5;124;43m\"\u001b[39;49m\u001b[38;5;124;43mrb\u001b[39;49m\u001b[38;5;124;43m\"\u001b[39;49m\u001b[43m)\u001b[49m \u001b[38;5;28;01mas\u001b[39;00m f:\n\u001b[0;32m      4\u001b[0m     logo_rgb_array \u001b[38;5;241m=\u001b[39m np\u001b[38;5;241m.\u001b[39mload(f)\n\u001b[0;32m      5\u001b[0m plt\u001b[38;5;241m.\u001b[39mimshow(logo_rgb_array)\n",
      "File \u001b[1;32mD:\\Software\\Anaconda\\envs\\LCI-extraction\\Lib\\site-packages\\IPython\\core\\interactiveshell.py:324\u001b[0m, in \u001b[0;36m_modified_open\u001b[1;34m(file, *args, **kwargs)\u001b[0m\n\u001b[0;32m    317\u001b[0m \u001b[38;5;28;01mif\u001b[39;00m file \u001b[38;5;129;01min\u001b[39;00m {\u001b[38;5;241m0\u001b[39m, \u001b[38;5;241m1\u001b[39m, \u001b[38;5;241m2\u001b[39m}:\n\u001b[0;32m    318\u001b[0m     \u001b[38;5;28;01mraise\u001b[39;00m \u001b[38;5;167;01mValueError\u001b[39;00m(\n\u001b[0;32m    319\u001b[0m         \u001b[38;5;124mf\u001b[39m\u001b[38;5;124m\"\u001b[39m\u001b[38;5;124mIPython won\u001b[39m\u001b[38;5;124m'\u001b[39m\u001b[38;5;124mt let you open fd=\u001b[39m\u001b[38;5;132;01m{\u001b[39;00mfile\u001b[38;5;132;01m}\u001b[39;00m\u001b[38;5;124m by default \u001b[39m\u001b[38;5;124m\"\u001b[39m\n\u001b[0;32m    320\u001b[0m         \u001b[38;5;124m\"\u001b[39m\u001b[38;5;124mas it is likely to crash IPython. If you know what you are doing, \u001b[39m\u001b[38;5;124m\"\u001b[39m\n\u001b[0;32m    321\u001b[0m         \u001b[38;5;124m\"\u001b[39m\u001b[38;5;124myou can use builtins\u001b[39m\u001b[38;5;124m'\u001b[39m\u001b[38;5;124m open.\u001b[39m\u001b[38;5;124m\"\u001b[39m\n\u001b[0;32m    322\u001b[0m     )\n\u001b[1;32m--> 324\u001b[0m \u001b[38;5;28;01mreturn\u001b[39;00m \u001b[43mio_open\u001b[49m\u001b[43m(\u001b[49m\u001b[43mfile\u001b[49m\u001b[43m,\u001b[49m\u001b[43m \u001b[49m\u001b[38;5;241;43m*\u001b[39;49m\u001b[43margs\u001b[49m\u001b[43m,\u001b[49m\u001b[43m \u001b[49m\u001b[38;5;241;43m*\u001b[39;49m\u001b[38;5;241;43m*\u001b[39;49m\u001b[43mkwargs\u001b[49m\u001b[43m)\u001b[49m\n",
      "\u001b[1;31mFileNotFoundError\u001b[0m: [Errno 2] No such file or directory: 'logo.npy'"
     ]
    }
   ],
   "source": [
    "#loading .npy files\n",
    "#\"logo.npy\": file address; \"rb\": read binary.\n",
    "with open(\"logo.npy\", \"rb\") as f:\n",
    "    logo_rgb_array = np.load(f)\n",
    "plt.imshow(logo_rgb_array)\n",
    "plt.show()\n",
    "\n",
    "#save .npy files\n",
    "with open(\"darker_monet.npy\", \"wb\") as f:\n",
    "    np.save(f, darker_rgb_int_array)"
   ]
  },
  {
   "cell_type": "markdown",
   "id": "a0ed4a54-de05-48b6-8f2a-c181418d7d25",
   "metadata": {},
   "source": [
    "**Array acrobatics**"
   ]
  },
  {
   "cell_type": "code",
   "execution_count": null,
   "id": "0b2e62c5-7acb-4cc1-b436-1078bfc14fde",
   "metadata": {},
   "outputs": [],
   "source": [
    "flipped_logo = np.flip(logo_rgb_array, axis=1)\n",
    "plt.imshow(flipped_logo)\n",
    "plt.show()"
   ]
  },
  {
   "cell_type": "code",
   "execution_count": 19,
   "id": "d4378597-0d8f-4123-98cd-9abe9e3184e4",
   "metadata": {},
   "outputs": [
    {
     "data": {
      "text/plain": [
       "array([[1, 2, 3],\n",
       "       [4, 5, 6],\n",
       "       [7, 8, 9]])"
      ]
     },
     "execution_count": 19,
     "metadata": {},
     "output_type": "execute_result"
    }
   ],
   "source": [
    "array = np.array([[1, 2, 3], [4, 5, 6], [7, 8, 9]])\n",
    "array"
   ]
  },
  {
   "cell_type": "code",
   "execution_count": 20,
   "id": "de092ace-9ccf-4a44-8cef-7ef0d380feb4",
   "metadata": {},
   "outputs": [
    {
     "data": {
      "text/plain": [
       "array([[9, 8, 7],\n",
       "       [6, 5, 4],\n",
       "       [3, 2, 1]])"
      ]
     },
     "execution_count": 20,
     "metadata": {},
     "output_type": "execute_result"
    }
   ],
   "source": [
    "np.flip(array)"
   ]
  },
  {
   "cell_type": "code",
   "execution_count": 18,
   "id": "35386f16-4e31-479f-bb90-f44f565decd7",
   "metadata": {},
   "outputs": [
    {
     "data": {
      "text/plain": [
       "array([[1, 4, 7],\n",
       "       [2, 5, 8],\n",
       "       [3, 6, 9]])"
      ]
     },
     "execution_count": 18,
     "metadata": {},
     "output_type": "execute_result"
    }
   ],
   "source": [
    "#Transposing an array: flips axis order while keeping the element order within each axis the same.\n",
    "#row become column, column become row\n",
    "np.transpose(array)"
   ]
  },
  {
   "cell_type": "markdown",
   "id": "1b951705-6dcd-42e9-bd78-d1b16b1ba4cc",
   "metadata": {},
   "source": [
    "**Stacking and splitting**"
   ]
  },
  {
   "cell_type": "code",
   "execution_count": 27,
   "id": "350ea4dc-b26f-4588-9deb-948a8116358e",
   "metadata": {},
   "outputs": [
    {
     "data": {
      "text/plain": [
       "array([[255, 255, 255],\n",
       "       [255, 255, 255]])"
      ]
     },
     "execution_count": 27,
     "metadata": {},
     "output_type": "execute_result"
    }
   ],
   "source": [
    "rgb = np.array([[[255, 0, 0], [255, 255, 0], [255, 255, 255]],\n",
    "               [[255, 0, 0], [255, 255, 0], [255, 255, 255]]])\n",
    "red_array = rgb[:, :, 0]\n",
    "red_array"
   ]
  },
  {
   "cell_type": "code",
   "execution_count": 32,
   "id": "9ea09daa-1941-4e85-bd4b-44c9c933bd0c",
   "metadata": {},
   "outputs": [
    {
     "data": {
      "text/plain": [
       "array([[[255],\n",
       "        [255],\n",
       "        [255]],\n",
       "\n",
       "       [[255],\n",
       "        [255],\n",
       "        [255]]])"
      ]
     },
     "execution_count": 32,
     "metadata": {},
     "output_type": "execute_result"
    }
   ],
   "source": [
    "red_array, green_array, blue_array = np.split(rgb, 3, axis=2)\n",
    "red_array"
   ]
  },
  {
   "cell_type": "code",
   "execution_count": 35,
   "id": "a4e892ef-8bb0-4e56-bcf0-5804eadb08f5",
   "metadata": {},
   "outputs": [
    {
     "data": {
      "text/plain": [
       "array([[255, 255, 255],\n",
       "       [255, 255, 255]])"
      ]
     },
     "execution_count": 35,
     "metadata": {},
     "output_type": "execute_result"
    }
   ],
   "source": [
    "red_array.reshape((2, 3))"
   ]
  },
  {
   "cell_type": "code",
   "execution_count": 37,
   "id": "ad236890-5d02-49ca-b248-226df26ef71d",
   "metadata": {},
   "outputs": [],
   "source": [
    "monthly_sales = np.array([\n",
    "    [ 4134, 23925,  8657],\n",
    "    [ 4116, 23875,  9142],\n",
    "    [ 4673, 27197, 10645],\n",
    "    [ 4580, 25637, 10456],\n",
    "    [ 5109, 27995, 11299],\n",
    "    [ 5011, 27419, 10625],\n",
    "    [ 5245, 27305, 10630],\n",
    "    [ 5270, 27760, 11550],\n",
    "    [ 4680, 24988,  9762],\n",
    "    [ 4913, 25802, 10456],\n",
    "    [ 5312, 25405, 13401],\n",
    "    [ 6630, 27797, 18403]\n",
    "])"
   ]
  },
  {
   "cell_type": "code",
   "execution_count": 39,
   "id": "d8bf33e2-1255-4e1b-b65d-98e2c70297bd",
   "metadata": {},
   "outputs": [
    {
     "name": "stdout",
     "output_type": "stream",
     "text": [
      "[[ 4134 23925  8657]\n",
      " [ 4116 23875  9142]\n",
      " [ 4673 27197 10645]]\n",
      "[[[ 4134 23925  8657]\n",
      "  [ 4116 23875  9142]\n",
      "  [ 4673 27197 10645]]\n",
      "\n",
      " [[ 4580 25637 10456]\n",
      "  [ 5109 27995 11299]\n",
      "  [ 5011 27419 10625]]\n",
      "\n",
      " [[ 5245 27305 10630]\n",
      "  [ 5270 27760 11550]\n",
      "  [ 4680 24988  9762]]\n",
      "\n",
      " [[ 4913 25802 10456]\n",
      "  [ 5312 25405 13401]\n",
      "  [ 6630 27797 18403]]]\n"
     ]
    }
   ],
   "source": [
    "# Split monthly_sales into quarterly data\n",
    "q1_sales, q2_sales, q3_sales, q4_sales = np.split(monthly_sales, 4)\n",
    "\n",
    "# Print q1_sales\n",
    "print(q1_sales)\n",
    "\n",
    "# Stack the four quarterly sales arrays\n",
    "quarterly_sales = np.stack([q1_sales, q2_sales, q3_sales, q4_sales])\n",
    "print(quarterly_sales)"
   ]
  },
  {
   "cell_type": "code",
   "execution_count": null,
   "id": "f05c8f54-ff3e-442c-a3a8-ff0caa2592fa",
   "metadata": {},
   "outputs": [],
   "source": []
  }
 ],
 "metadata": {
  "kernelspec": {
   "display_name": "Python 3 (ipykernel)",
   "language": "python",
   "name": "python3"
  },
  "language_info": {
   "codemirror_mode": {
    "name": "ipython",
    "version": 3
   },
   "file_extension": ".py",
   "mimetype": "text/x-python",
   "name": "python",
   "nbconvert_exporter": "python",
   "pygments_lexer": "ipython3",
   "version": "3.12.3"
  }
 },
 "nbformat": 4,
 "nbformat_minor": 5
}
