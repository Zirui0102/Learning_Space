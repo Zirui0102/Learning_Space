{
 "cells": [
  {
   "cell_type": "markdown",
   "id": "bc5e28d7-cd44-47ee-96b0-554b63d361ad",
   "metadata": {},
   "source": [
    "**Summary**\n",
    "1. Iterable: lists, strings, dictionaries, file connections.\n",
    "2. Iterator: produces next value with `next()`\n",
    "3. `enumerate()`: takes any iterable as an argument and returns an enumerate object with pairs of each element and its index.\n",
    "4. `zip()`: accepts an arbitrary number of iterables and returns an iterator of tuples.\n",
    "5. `pd.read_csv(path, chunksize=1000)`\n",
    "6. List comprehensions: basic syntax is **[output expression for Iterator variable in Iterable]**.\n",
    "7. Generators - a special type of iterator that iterate over a sequence of values without creating the entire sequence in memory at once - `yield` statement.\n",
    "8. List comprehensions vs. generators: (1)List comprehension - returns a list; Generators - returns a generator object. (2)Both can be iterated over."
   ]
  },
  {
   "cell_type": "code",
   "execution_count": 1,
   "id": "553aeb86-e1c0-4bf5-bfc8-4ca58c91f757",
   "metadata": {},
   "outputs": [],
   "source": [
    "import pandas as pd"
   ]
  },
  {
   "cell_type": "markdown",
   "id": "a64cd26a-10c4-4f66-a82b-50d31826225b",
   "metadata": {},
   "source": [
    "**1. Introduction to iterators**"
   ]
  },
  {
   "cell_type": "code",
   "execution_count": 1,
   "id": "f64a717a-7513-4687-9e6f-371b44886694",
   "metadata": {},
   "outputs": [],
   "source": [
    "#Iterable:\n",
    "#Examples: lists, strings, dictionaries, file connections\n",
    "#An object with an associated iter() method\n",
    "#Applying iter() to an iterable creates an iterator\n",
    "#Iterator:\n",
    "#Produces next value with next()"
   ]
  },
  {
   "cell_type": "code",
   "execution_count": 4,
   "id": "f7e00329-62b2-400b-b96b-6a37e629f053",
   "metadata": {},
   "outputs": [
    {
     "data": {
      "text/plain": [
       "'T'"
      ]
     },
     "execution_count": 4,
     "metadata": {},
     "output_type": "execute_result"
    }
   ],
   "source": [
    "#iterating over iterables: next()\n",
    "word = 'Terry'  #define a iterable\n",
    "it = iter(word)\n",
    "next(it)"
   ]
  },
  {
   "cell_type": "code",
   "execution_count": 5,
   "id": "466270b2-6397-46f8-8322-48567e7ef06e",
   "metadata": {},
   "outputs": [
    {
     "data": {
      "text/plain": [
       "'e'"
      ]
     },
     "execution_count": 5,
     "metadata": {},
     "output_type": "execute_result"
    }
   ],
   "source": [
    "next(it)"
   ]
  },
  {
   "cell_type": "code",
   "execution_count": 8,
   "id": "5661eedd-30d5-44db-b22d-7393d370c36d",
   "metadata": {},
   "outputs": [
    {
     "name": "stdout",
     "output_type": "stream",
     "text": [
      "T e r r y\n"
     ]
    }
   ],
   "source": [
    "#iterating at once with *\n",
    "word = 'Terry'  \n",
    "it = iter(word)\n",
    "print(*it)"
   ]
  },
  {
   "cell_type": "code",
   "execution_count": 10,
   "id": "b9d27e9f-ef93-4331-b1ef-75dad29adc74",
   "metadata": {},
   "outputs": [
    {
     "name": "stdout",
     "output_type": "stream",
     "text": [
      "hugo bowne-anderson\n",
      "francis castro\n"
     ]
    }
   ],
   "source": [
    "#iterating over dictionaries\n",
    "pythonistas = {'hugo': 'bowne-anderson', 'francis': 'castro'}\n",
    "for key, value in pythonistas.items():\n",
    "    print(key, value)"
   ]
  },
  {
   "cell_type": "code",
   "execution_count": 15,
   "id": "50bfb34b-2c32-4f1b-9f1e-1dce1bcd072c",
   "metadata": {},
   "outputs": [
    {
     "name": "stdout",
     "output_type": "stream",
     "text": [
      "System boundary,Functional unit,Impact assessment method,Impact category,PDF Path\n",
      "\n"
     ]
    }
   ],
   "source": [
    "#iterating over file connections\n",
    "file = open('C:/Users/89751/OneDrive/Desktop/test.csv')\n",
    "\n",
    "it = iter(file)\n",
    "print(next(it))"
   ]
  },
  {
   "cell_type": "code",
   "execution_count": 16,
   "id": "4cf5e9e5-45f1-47ed-a8ae-ad99e6b221ab",
   "metadata": {},
   "outputs": [
    {
     "name": "stdout",
     "output_type": "stream",
     "text": [
      "Cradle to grave,79 t of methanol,CML2001,\"['Global Warming Potential (GWP)', 'Acidification Potential (AP)', 'Human Toxicity Potential (HTP)']\",C:/Users/89751/OneDrive/Desktop/LCA ontology/Ragas_evaluation/Paper/1.pdf\n",
      "\n"
     ]
    }
   ],
   "source": [
    "print(next(it))"
   ]
  },
  {
   "cell_type": "markdown",
   "id": "a23bf36b-bf78-4a62-b9a1-eb608ae14f4b",
   "metadata": {},
   "source": [
    "**2. Playing with iterators**"
   ]
  },
  {
   "cell_type": "code",
   "execution_count": 5,
   "id": "b1b7956a-7a5d-4b3d-b360-6db40a469a5c",
   "metadata": {},
   "outputs": [
    {
     "name": "stdout",
     "output_type": "stream",
     "text": [
      "[(0, 'hawkeye'), (1, 'iron man'), (2, 'thor'), (3, 'quicksilver')]\n"
     ]
    }
   ],
   "source": [
    "#Enumerate(): takes any iterable as argument, and returns a enumerate object\n",
    "#which consists of pairs containing the elements of the original iterable, along with their index within the iterable.\n",
    "avengers = [\"hawkeye\", \"iron man\", \"thor\", \"quicksilver\"]\n",
    "e = enumerate(avengers)\n",
    "e_list = list(e)\n",
    "print(e_list)"
   ]
  },
  {
   "cell_type": "code",
   "execution_count": 6,
   "id": "92537a64-a84d-418c-a800-d37f4b178078",
   "metadata": {},
   "outputs": [
    {
     "name": "stdout",
     "output_type": "stream",
     "text": [
      "0 hawkeye\n",
      "1 iron man\n",
      "2 thor\n",
      "3 quicksilver\n"
     ]
    }
   ],
   "source": [
    "#enumerate() and unpack\n",
    "avengers = [\"hawkeye\", \"iron man\", \"thor\", \"quicksilver\"]\n",
    "for index, value in enumerate(average):\n",
    "    print(index, value)"
   ]
  },
  {
   "cell_type": "code",
   "execution_count": 7,
   "id": "53e8625b-89f8-4bcb-a3fb-c0c35a0aacaf",
   "metadata": {},
   "outputs": [
    {
     "name": "stdout",
     "output_type": "stream",
     "text": [
      "[('hawkeye', 'barton'), ('iron man', 'stark'), ('thor', 'odinson'), ('quicksilver', 'maximoff')]\n"
     ]
    }
   ],
   "source": [
    "#Zip(): accepts an arbitrary number of iterables and returns an iterator of tuples.\n",
    "avengers = [\"hawkeye\", \"iron man\", \"thor\", \"quicksilver\"]\n",
    "names = [\"barton\", \"stark\", \"odinson\", \"maximoff\"]\n",
    "z = zip(avengers, names)\n",
    "z_list = list(z)\n",
    "print(z_list)"
   ]
  },
  {
   "cell_type": "code",
   "execution_count": 8,
   "id": "f03c6703-8986-42d3-b0c1-0805ea729ba5",
   "metadata": {},
   "outputs": [
    {
     "name": "stdout",
     "output_type": "stream",
     "text": [
      "hawkeye barton\n",
      "iron man stark\n",
      "thor odinson\n",
      "quicksilver maximoff\n"
     ]
    }
   ],
   "source": [
    "#Zip() and unpack\n",
    "average = [\"hawkeye\", \"iron man\", \"thor\", \"quicksilver\"]\n",
    "names = [\"barton\", \"stark\", \"odinson\", \"maximoff\"]\n",
    "for z1, z2 in zip(avengers, names):\n",
    "    print(z1, z2)"
   ]
  },
  {
   "cell_type": "code",
   "execution_count": 9,
   "id": "d2e4b5aa-d4b8-47ed-8ae3-231cb966567c",
   "metadata": {},
   "outputs": [
    {
     "name": "stdout",
     "output_type": "stream",
     "text": [
      "('hawkeye', 'barton') ('iron man', 'stark') ('thor', 'odinson') ('quicksilver', 'maximoff')\n"
     ]
    }
   ],
   "source": [
    "#print zip with *\n",
    "avengers = [\"hawkeye\", \"iron man\", \"thor\", \"quicksilver\"]\n",
    "names = [\"barton\", \"stark\", \"odinson\", \"maximoff\"]\n",
    "z = zip(avengers, names)\n",
    "print(*z)"
   ]
  },
  {
   "cell_type": "code",
   "execution_count": 10,
   "id": "884d69fb-2c1b-4dab-a61e-b1544dd3b6be",
   "metadata": {},
   "outputs": [
    {
     "name": "stdout",
     "output_type": "stream",
     "text": [
      "['Wolverine', 'Cyclops', 'Storm']\n",
      "['Regeneration', 'Optic Blast', 'Weather Control']\n"
     ]
    }
   ],
   "source": [
    "# Assuming mutants and powers are defined\n",
    "mutants = ['Wolverine', 'Cyclops', 'Storm']\n",
    "powers = ['Regeneration', 'Optic Blast', 'Weather Control']\n",
    "\n",
    "# Create a zip object from mutants and powers\n",
    "z1 = zip(mutants, powers)\n",
    "\n",
    "# 'Unzip' the tuples in z1 by unpacking them into positional arguments using the * operator in a zip() call\n",
    "result1, result2 = zip(*z1)\n",
    "\n",
    "# Convert the result tuples to lists for better readability (optional)\n",
    "result1 = list(result1)\n",
    "result2 = list(result2)\n",
    "\n",
    "# Print the results\n",
    "print(result1)  # Output: ['Wolverine', 'Cyclops', 'Storm']\n",
    "print(result2)  # Output: ['Regeneration', 'Optic Blast', 'Weather Control']"
   ]
  },
  {
   "cell_type": "markdown",
   "id": "6761d779-bddf-45ec-910a-77fafec01544",
   "metadata": {},
   "source": [
    "**3. Using iterators to load large files into memory**"
   ]
  },
  {
   "cell_type": "code",
   "execution_count": 15,
   "id": "8803afdc-607f-4426-98d3-5671031eaee1",
   "metadata": {},
   "outputs": [
    {
     "data": {
      "text/plain": [
       "-2.38281186831227"
      ]
     },
     "execution_count": 15,
     "metadata": {},
     "output_type": "execute_result"
    }
   ],
   "source": [
    "#iterating over data\n",
    "result = []\n",
    "path = \"C:/Users/89751/OneDrive/Desktop/embeddings_train.csv\"\n",
    "for chunk in pd.read_csv(path, chunksize=1000):\n",
    "    result.append(sum(chunk['embedding_0']))\n",
    "total = sum(result)\n",
    "total"
   ]
  },
  {
   "cell_type": "code",
   "execution_count": 16,
   "id": "5bc286bf-4a62-41c2-b536-ad9227dfc048",
   "metadata": {},
   "outputs": [
    {
     "data": {
      "text/plain": [
       "-2.38281186831227"
      ]
     },
     "execution_count": 16,
     "metadata": {},
     "output_type": "execute_result"
    }
   ],
   "source": [
    "#iterating over data\n",
    "total = 0\n",
    "for chunk in pd.read_csv(path, chunksize=1000):\n",
    "    total += sum(chunk['embedding_0'])\n",
    "total"
   ]
  },
  {
   "cell_type": "markdown",
   "id": "16ea3edb-25cf-49a0-abae-5d9aa8e744b6",
   "metadata": {},
   "source": [
    "**4. List comprehensions**"
   ]
  },
  {
   "cell_type": "markdown",
   "id": "0db17500-1d75-414e-9d99-a606f67577c3",
   "metadata": {},
   "source": [
    "**List comprehensions**\n",
    "1. Collapse for loops for building lists into a single line\n",
    "2. Components\n",
    "   * Iterable\n",
    "   * Iterator variable (represent members of iterable)\n",
    "   * Output expression\n",
    "3. The basic syntax for a list comprehension is **[output expression for Iterator variable in Iterable]**\n",
    "4. Advanced **[output expression + conditional on output for iterator variable in iterable + conditional on iterable]**\n",
    "5. *Note*: when you use list comprehensives, please pay attention to readibility issues."
   ]
  },
  {
   "cell_type": "code",
   "execution_count": 1,
   "id": "b0288905-a824-40fb-a64e-eb2d587958c6",
   "metadata": {},
   "outputs": [
    {
     "name": "stdout",
     "output_type": "stream",
     "text": [
      "[13, 9, 22, 4, 17]\n"
     ]
    }
   ],
   "source": [
    "#populate a list (common way)\n",
    "nums = [12, 8, 21, 3, 16]\n",
    "new_nums = []\n",
    "for num in nums:\n",
    "    new_nums.append(num + 1)\n",
    "print(new_nums)"
   ]
  },
  {
   "cell_type": "code",
   "execution_count": 3,
   "id": "80f6e2e0-0202-4e3f-a535-9edea36265cb",
   "metadata": {},
   "outputs": [
    {
     "data": {
      "text/plain": [
       "[13, 9, 22, 4, 17]"
      ]
     },
     "execution_count": 3,
     "metadata": {},
     "output_type": "execute_result"
    }
   ],
   "source": [
    "#a list comprehension\n",
    "nums = [12, 8, 21, 3, 16]\n",
    "new_nums = [num + 1 for num in nums]\n",
    "new_nums"
   ]
  },
  {
   "cell_type": "code",
   "execution_count": 4,
   "id": "5e35a060-7ee0-4a73-abdd-a9c292f88867",
   "metadata": {},
   "outputs": [
    {
     "data": {
      "text/plain": [
       "[0, 1, 2, 3, 4, 5, 6, 7, 8, 9, 10]"
      ]
     },
     "execution_count": 4,
     "metadata": {},
     "output_type": "execute_result"
    }
   ],
   "source": [
    "result = [num for num in range(11)]\n",
    "result"
   ]
  },
  {
   "cell_type": "code",
   "execution_count": 6,
   "id": "29c84ca0-1ccc-4d5f-89fd-d37823bb5fc4",
   "metadata": {},
   "outputs": [
    {
     "data": {
      "text/plain": [
       "[(0, 6), (0, 7), (1, 6), (1, 7)]"
      ]
     },
     "execution_count": 6,
     "metadata": {},
     "output_type": "execute_result"
    }
   ],
   "source": [
    "#nested loops (1)\n",
    "pairs_1 = []\n",
    "for num1 in range(0, 2):\n",
    "    for num2 in range(6, 8):\n",
    "        pairs_1.append((num1, num2))\n",
    "pairs_1"
   ]
  },
  {
   "cell_type": "code",
   "execution_count": 8,
   "id": "c02ac965-7f9c-4fd5-afd9-b0286bbb8906",
   "metadata": {},
   "outputs": [
    {
     "name": "stdout",
     "output_type": "stream",
     "text": [
      "[(0, 6), (0, 7), (1, 6), (1, 7)]\n"
     ]
    }
   ],
   "source": [
    "#nested loops (2)\n",
    "pairs_2 = [(num1, num2) for num1 in range(0, 2) for num2 in range(6, 8)]\n",
    "print(pairs_2)"
   ]
  },
  {
   "cell_type": "code",
   "execution_count": 9,
   "id": "5f93b937-ff12-4e46-902f-46519511508a",
   "metadata": {},
   "outputs": [
    {
     "name": "stdout",
     "output_type": "stream",
     "text": [
      "[0, 1, 2, 3, 4]\n",
      "[0, 1, 2, 3, 4]\n",
      "[0, 1, 2, 3, 4]\n",
      "[0, 1, 2, 3, 4]\n",
      "[0, 1, 2, 3, 4]\n"
     ]
    }
   ],
   "source": [
    "# Create a 5 x 5 matrix using a list of lists: matrix\n",
    "matrix = [[col for col in range(5)] for row in range(5)]\n",
    "\n",
    "# Print the matrix\n",
    "for row in matrix:\n",
    "    print(row)"
   ]
  },
  {
   "cell_type": "markdown",
   "id": "75f36b58-9c0b-43ff-ae1d-5a4ee57ed89b",
   "metadata": {},
   "source": [
    "**5. Advanced comprehensions**"
   ]
  },
  {
   "cell_type": "code",
   "execution_count": 10,
   "id": "15f76a80-a494-4aaf-a733-34339c52ee80",
   "metadata": {},
   "outputs": [
    {
     "data": {
      "text/plain": [
       "[0, 4, 16, 36, 64]"
      ]
     },
     "execution_count": 10,
     "metadata": {},
     "output_type": "execute_result"
    }
   ],
   "source": [
    "#conditionals in comprehensions\n",
    "[num ** 2 for num in range(10) if num % 2 == 0]"
   ]
  },
  {
   "cell_type": "code",
   "execution_count": 11,
   "id": "5273220e-737d-4a99-8ee0-5822a92d1b31",
   "metadata": {},
   "outputs": [
    {
     "data": {
      "text/plain": [
       "[0, 0, 4, 0, 16, 0, 36, 0, 64, 0]"
      ]
     },
     "execution_count": 11,
     "metadata": {},
     "output_type": "execute_result"
    }
   ],
   "source": [
    "[num **2 if num % 2 == 0 else 0 for num in range(10)]"
   ]
  },
  {
   "cell_type": "code",
   "execution_count": 14,
   "id": "ab0c3805-9b83-4709-abc7-0556bbe6f093",
   "metadata": {},
   "outputs": [
    {
     "data": {
      "text/plain": [
       "{0: 0, 1: -1, 2: -2, 3: -3, 4: -4, 5: -5, 6: -6, 7: -7, 8: -8}"
      ]
     },
     "execution_count": 14,
     "metadata": {},
     "output_type": "execute_result"
    }
   ],
   "source": [
    "#Dict comprehensions\n",
    "#create dictionaries; Use curly braces {} instead of brackets []\n",
    "pos_neg = {num: -num for num in range(9)}\n",
    "pos_neg"
   ]
  },
  {
   "cell_type": "markdown",
   "id": "37305fe2-650d-47d4-b00c-489044c21248",
   "metadata": {},
   "source": [
    "**6. Introduction to generator expressions**"
   ]
  },
  {
   "cell_type": "code",
   "execution_count": 16,
   "id": "00c5b020-60c6-427d-8552-e1dc0a774a7b",
   "metadata": {},
   "outputs": [
    {
     "data": {
      "text/plain": [
       "[0, 2, 4, 6, 8, 10, 12, 14, 16, 18]"
      ]
     },
     "execution_count": 16,
     "metadata": {},
     "output_type": "execute_result"
    }
   ],
   "source": [
    "#generator expressions\n",
    "[2 * num for num in range(10)]"
   ]
  },
  {
   "cell_type": "code",
   "execution_count": 17,
   "id": "492572c6-6352-4715-9eff-2056e1fc7024",
   "metadata": {},
   "outputs": [
    {
     "data": {
      "text/plain": [
       "<generator object <genexpr> at 0x000001DE0EA153C0>"
      ]
     },
     "execution_count": 17,
     "metadata": {},
     "output_type": "execute_result"
    }
   ],
   "source": [
    "(2 * num for num in range(10))"
   ]
  },
  {
   "cell_type": "code",
   "execution_count": 24,
   "id": "a1d9e661-d6da-44d1-858f-dba07c5bb67f",
   "metadata": {},
   "outputs": [
    {
     "name": "stdout",
     "output_type": "stream",
     "text": [
      "0\n",
      "2\n",
      "4\n",
      "6\n",
      "8\n",
      "10\n"
     ]
    }
   ],
   "source": [
    "#List comprehensions vs. generators\n",
    "#List comprehension - returns a list\n",
    "#Generators - returns a generator object (no memory useage)\n",
    "#Both can be iterated over\n",
    "results = (2 * num for num in range(6))\n",
    "for num in results:\n",
    "    print(num)"
   ]
  },
  {
   "cell_type": "code",
   "execution_count": 25,
   "id": "f397aa3e-7567-45d8-949d-d89599c8cdca",
   "metadata": {},
   "outputs": [
    {
     "name": "stdout",
     "output_type": "stream",
     "text": [
      "[0, 2, 4, 6, 8, 10]\n"
     ]
    }
   ],
   "source": [
    "results = (2 * num for num in range(6))\n",
    "print(list(results))"
   ]
  },
  {
   "cell_type": "code",
   "execution_count": 26,
   "id": "efade8ae-442d-4fb6-9fa0-dd2bebd8223b",
   "metadata": {},
   "outputs": [
    {
     "name": "stdout",
     "output_type": "stream",
     "text": [
      "[0, 2, 4, 6, 8]\n"
     ]
    }
   ],
   "source": [
    "#conditionals in generator expressions\n",
    "even_nums = (num for num in range(10) if num%2 == 0)\n",
    "print(list(even_nums))"
   ]
  },
  {
   "cell_type": "code",
   "execution_count": 27,
   "id": "98a3c7ef-51ca-44c6-a78e-640059b57bf1",
   "metadata": {},
   "outputs": [],
   "source": [
    "#build a generator function (using yield)\n",
    "def num_sequence(n):\n",
    "    \"\"\"Generate values from 0 to n\"\"\"\n",
    "    i = 0\n",
    "    while i < n:\n",
    "        yield i\n",
    "        i += 1"
   ]
  },
  {
   "cell_type": "code",
   "execution_count": 30,
   "id": "84b8ba87-ca21-4ff1-a7a8-b834ac0fcedd",
   "metadata": {},
   "outputs": [
    {
     "name": "stdout",
     "output_type": "stream",
     "text": [
      "6\n",
      "5\n",
      "5\n",
      "6\n",
      "7\n"
     ]
    }
   ],
   "source": [
    "# Create a list of strings\n",
    "lannister = ['cersei', 'jaime', 'tywin', 'tyrion', 'joffrey']\n",
    "\n",
    "# Define generator function get_lengths\n",
    "def get_lengths(input_list):\n",
    "    \"\"\"Generator function that yields the\n",
    "    length of the strings in input_list.\"\"\"\n",
    "\n",
    "    # Yield the length of a string\n",
    "    for person in input_list:\n",
    "        yield len(person)\n",
    "\n",
    "# Print the values generated by get_lengths()\n",
    "for value in get_lengths(lannister):\n",
    "    print(value)"
   ]
  },
  {
   "cell_type": "code",
   "execution_count": 28,
   "id": "62e39565-a6d1-40ab-b43b-987fe9661263",
   "metadata": {},
   "outputs": [
    {
     "data": {
      "text/plain": [
       "generator"
      ]
     },
     "execution_count": 28,
     "metadata": {},
     "output_type": "execute_result"
    }
   ],
   "source": [
    "result = num_sequence(5)\n",
    "type(result)"
   ]
  },
  {
   "cell_type": "code",
   "execution_count": 29,
   "id": "5e488562-04ef-45b3-a268-5e4b52808b57",
   "metadata": {},
   "outputs": [
    {
     "name": "stdout",
     "output_type": "stream",
     "text": [
      "0\n",
      "1\n",
      "2\n",
      "3\n",
      "4\n"
     ]
    }
   ],
   "source": [
    "for item in result:\n",
    "    print(item)"
   ]
  },
  {
   "cell_type": "markdown",
   "id": "e7818d39-24ec-4b1d-84f3-81f53e3e58ec",
   "metadata": {},
   "source": [
    "**7. Using Python generators for streaming data**"
   ]
  },
  {
   "cell_type": "code",
   "execution_count": 4,
   "id": "3731c22a-af06-4428-ad72-b799b3411c6b",
   "metadata": {},
   "outputs": [],
   "source": [
    "list = [(91401583.0, 44.5079211390026), (92237118.0, 45.206665319194), (93014890.0, 45.866564696018), (93845749.0, 46.5340927663649), (94722599.0, 47.2087429803526)]"
   ]
  },
  {
   "cell_type": "code",
   "execution_count": 14,
   "id": "f009192e-3d97-42ee-8d88-319f67af6257",
   "metadata": {},
   "outputs": [
    {
     "data": {
      "text/plain": [
       "[40680944, 41697325, 42662734, 43670267, 44717348]"
      ]
     },
     "execution_count": 14,
     "metadata": {},
     "output_type": "execute_result"
    }
   ],
   "source": [
    "list_new =  [int(tup[0] * tup[1] * 0.01) for tup in list]\n",
    "list_new "
   ]
  },
  {
   "cell_type": "code",
   "execution_count": null,
   "id": "27b7b3d1-d993-4f03-9d04-2925d9aecda9",
   "metadata": {},
   "outputs": [],
   "source": []
  }
 ],
 "metadata": {
  "kernelspec": {
   "display_name": "Python 3 (ipykernel)",
   "language": "python",
   "name": "python3"
  },
  "language_info": {
   "codemirror_mode": {
    "name": "ipython",
    "version": 3
   },
   "file_extension": ".py",
   "mimetype": "text/x-python",
   "name": "python",
   "nbconvert_exporter": "python",
   "pygments_lexer": "ipython3",
   "version": "3.12.3"
  }
 },
 "nbformat": 4,
 "nbformat_minor": 5
}
