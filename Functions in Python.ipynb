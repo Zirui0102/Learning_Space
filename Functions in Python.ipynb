{
 "cells": [
  {
   "cell_type": "code",
   "execution_count": 1,
   "id": "bdd046ea-f787-4955-b9fa-dc7ac7c7b564",
   "metadata": {},
   "outputs": [],
   "source": [
    "import pandas as pd"
   ]
  },
  {
   "cell_type": "markdown",
   "id": "0315b504-b4c8-462e-8857-23c62c310fbb",
   "metadata": {},
   "source": [
    "**1. User-defined functions**"
   ]
  },
  {
   "cell_type": "code",
   "execution_count": 4,
   "id": "ba6f0e53-160f-4b4d-ad2c-6709a85e37b0",
   "metadata": {},
   "outputs": [
    {
     "data": {
      "text/plain": [
       "100"
      ]
     },
     "execution_count": 4,
     "metadata": {},
     "output_type": "execute_result"
    }
   ],
   "source": [
    "def square(value):  # <- Function header\n",
    "    new_value = value ** 2\n",
    "    return new_value\n",
    "\n",
    "a = square(10)\n",
    "a"
   ]
  },
  {
   "cell_type": "code",
   "execution_count": 5,
   "id": "b894b934-898b-4133-8146-3e5ff6fc2dce",
   "metadata": {},
   "outputs": [
    {
     "data": {
      "text/plain": [
       "100"
      ]
     },
     "execution_count": 5,
     "metadata": {},
     "output_type": "execute_result"
    }
   ],
   "source": [
    "#docstrings: describe what your function does;\n",
    "def square(value):  \n",
    "    \"\"\"Returns the square of a value\"\"\"\n",
    "    new_value = value ** 2\n",
    "    return new_value\n",
    "\n",
    "a = square(10)\n",
    "a"
   ]
  },
  {
   "cell_type": "markdown",
   "id": "06cdee38-4dda-43da-ba30-b3144cb3c8fa",
   "metadata": {},
   "source": [
    "**2. Multiple parameters and return values**"
   ]
  },
  {
   "cell_type": "code",
   "execution_count": 1,
   "id": "59654218-bd2f-41a4-9184-7ab1d070c0ac",
   "metadata": {},
   "outputs": [
    {
     "data": {
      "text/plain": [
       "1048576"
      ]
     },
     "execution_count": 1,
     "metadata": {},
     "output_type": "execute_result"
    }
   ],
   "source": [
    "#multiple function parameters\n",
    "def raise_to_power(value1, value2):\n",
    "    \"\"\"Raise value1 to the power of value2\"\"\"\n",
    "    new_value = value1 ** value2\n",
    "    return new_value\n",
    "\n",
    "result = raise_to_power(4, 10)\n",
    "result"
   ]
  },
  {
   "cell_type": "code",
   "execution_count": 7,
   "id": "36334b4d-88f6-4180-9ded-2f6f41c6d76f",
   "metadata": {},
   "outputs": [
    {
     "data": {
      "text/plain": [
       "1048576"
      ]
     },
     "execution_count": 7,
     "metadata": {},
     "output_type": "execute_result"
    }
   ],
   "source": [
    "#returning multiple values:\n",
    "def raise_to_power(value1, value2):\n",
    "    \"\"\"Raise value1 to the power of value2\"\"\"\n",
    "    new_value1 = value1 ** value2\n",
    "    new_value2 = value2 ** value1\n",
    "\n",
    "    new_tuple = (new_value1, new_value2)\n",
    "    \n",
    "    return new_tuple\n",
    "\n",
    "result1, result2 = raise_to_power(4, 10)\n",
    "result1"
   ]
  },
  {
   "cell_type": "code",
   "execution_count": 4,
   "id": "8c719bbe-90a2-49f5-a5bd-c84ecb6ec42c",
   "metadata": {},
   "outputs": [
    {
     "data": {
      "text/plain": [
       "(2, 4, 6)"
      ]
     },
     "execution_count": 4,
     "metadata": {},
     "output_type": "execute_result"
    }
   ],
   "source": [
    "# set a tuple\n",
    "nums = (3, 4, 6)\n",
    "\n",
    "# Unpack a tuple into several variables\n",
    "num1, num2, num3 = nums\n",
    "\n",
    "# Construct even_nums\n",
    "even_nums = (2, num2, num3)\n",
    "even_nums"
   ]
  },
  {
   "cell_type": "code",
   "execution_count": 10,
   "id": "e57194b1-5bda-46a1-bb98-d02a9b61417e",
   "metadata": {},
   "outputs": [
    {
     "name": "stdout",
     "output_type": "stream",
     "text": [
      "{'Python': 3, 'Java': 2, 'C++': 1}\n"
     ]
    }
   ],
   "source": [
    "#scope and user-defined functions\n",
    "# Define count_entries()\n",
    "def count_entries(df, col_name):\n",
    "    \"\"\"Return a dictionary with counts of \n",
    "    occurrences as value for each key.\"\"\"\n",
    "\n",
    "    # Initialize an empty dictionary: langs_count\n",
    "    langs_count = {}\n",
    "    \n",
    "    # Extract column from DataFrame: col\n",
    "    col = df[col_name]\n",
    "    \n",
    "    # Iterate over lang column in DataFrame\n",
    "    for entry in col:\n",
    "\n",
    "        # If the language is in langs_count, add 1\n",
    "        if entry in langs_count.keys():\n",
    "            langs_count[entry] += 1\n",
    "        # Else add the language to langs_count, set the value to 1\n",
    "        else:\n",
    "            langs_count[entry] = 1\n",
    "\n",
    "    # Return the langs_count dictionary\n",
    "    return langs_count\n",
    "\n",
    "data = {'lang': ['Python', 'Java', 'Python', 'C++', 'Java', 'Python']}\n",
    "df = pd.DataFrame(data)\n",
    "result = count_entries(df, 'lang')\n",
    "print(result)"
   ]
  },
  {
   "cell_type": "markdown",
   "id": "ed625976-d06f-4f87-a14e-f88e8fc1ecb3",
   "metadata": {},
   "source": [
    "**3. Bringing it all together**"
   ]
  },
  {
   "cell_type": "code",
   "execution_count": 11,
   "id": "0b1fd1ae-921b-423b-ba3b-cc14e2ec51d5",
   "metadata": {},
   "outputs": [],
   "source": [
    "#Scope in functions\n",
    "#Scope: part of the program where an object or name may be accessible\n",
    "#Global scope: defined in the main body of a script.\n",
    "#Local scope: defined inside a function.\n",
    "#Built-in scope: names in the pre-defined built-ins module"
   ]
  },
  {
   "cell_type": "code",
   "execution_count": 14,
   "id": "03bbe78e-9128-4032-a176-a89cc62e4381",
   "metadata": {},
   "outputs": [
    {
     "data": {
      "text/plain": [
       "9"
      ]
     },
     "execution_count": 14,
     "metadata": {},
     "output_type": "execute_result"
    }
   ],
   "source": [
    "#global vs. local scope\n",
    "new_value = 10\n",
    "\n",
    "def square(value):  \n",
    "    \"\"\"Returns the square of a value\"\"\"\n",
    "    new_value = value ** 2\n",
    "    return new_value\n",
    "\n",
    "square(3)"
   ]
  },
  {
   "cell_type": "code",
   "execution_count": 17,
   "id": "fa6b1ae8-a6f1-4a89-af58-4fd4995b62ee",
   "metadata": {},
   "outputs": [
    {
     "data": {
      "text/plain": [
       "100"
      ]
     },
     "execution_count": 17,
     "metadata": {},
     "output_type": "execute_result"
    }
   ],
   "source": [
    "#global vs. local scope\n",
    "new_value = 10\n",
    "\n",
    "def square(value):  \n",
    "    \"\"\"Returns the square of a value\"\"\"\n",
    "    global new_value\n",
    "    new_value = new_value ** 2\n",
    "    return new_value\n",
    "    \n",
    "square(3)"
   ]
  },
  {
   "cell_type": "markdown",
   "id": "c7bc3d7f-c2b8-4b87-83ce-f9e14cd4607b",
   "metadata": {},
   "source": [
    "**4. Nested functions**"
   ]
  },
  {
   "cell_type": "code",
   "execution_count": 6,
   "id": "980aabfc-3480-4748-a17d-365b447b6f3a",
   "metadata": {},
   "outputs": [
    {
     "name": "stdout",
     "output_type": "stream",
     "text": [
      "(5, 6, 5)\n"
     ]
    }
   ],
   "source": [
    "#nested functions\n",
    "#Scopes searched: local scope, enclosing functions, global, and built-in\n",
    "def mod2plus5 (x1, x2, x3):\n",
    "    \"\"\"Returns the remainder plus 5 of three values\"\"\"\n",
    "\n",
    "    def inner(x):\n",
    "        \"\"\"Returns the remainder plus 5 of a value\"\"\"\n",
    "        return x % 2 + 5\n",
    "\n",
    "    return (inner(x1), inner(x2), inner(x3))\n",
    "\n",
    "print(mod2plus5(2, 3, 4))"
   ]
  },
  {
   "cell_type": "code",
   "execution_count": 9,
   "id": "3e832ed8-680c-4de0-8d06-e9ccf5c3d3af",
   "metadata": {},
   "outputs": [
    {
     "name": "stdout",
     "output_type": "stream",
     "text": [
      "4 64\n"
     ]
    }
   ],
   "source": [
    "#returning functions\n",
    "def raise_value(n):\n",
    "    \"\"\"Return the inner function\"\"\"\n",
    "\n",
    "    def inner(x):\n",
    "        \"\"\"Raise x to the power of n.\"\"\"\n",
    "        raised = x ** n\n",
    "        return raised\n",
    "        \n",
    "    return inner\n",
    "        \n",
    "square = raise_value(2)\n",
    "cube = raise_value(3)\n",
    "print(square(2), cube(4))"
   ]
  },
  {
   "cell_type": "code",
   "execution_count": 10,
   "id": "394856b3-7813-4d4c-911c-9d38cbf41c95",
   "metadata": {},
   "outputs": [
    {
     "name": "stdout",
     "output_type": "stream",
     "text": [
      "2\n"
     ]
    }
   ],
   "source": [
    "#using nonlocal\n",
    "def outer():\n",
    "    \"\"\"prints the value of n.\"\"\"\n",
    "    n = 1\n",
    "\n",
    "    def inner():\n",
    "        nonlocal n\n",
    "        n = 2\n",
    "\n",
    "    inner()\n",
    "    print(n)\n",
    "\n",
    "n = outer()\n",
    "n"
   ]
  },
  {
   "cell_type": "code",
   "execution_count": 15,
   "id": "1121e2e1-fe1a-42d0-937d-dfb4a0a74bc2",
   "metadata": {},
   "outputs": [
    {
     "name": "stdout",
     "output_type": "stream",
     "text": [
      "hellohello\n",
      "hellohello!!!\n"
     ]
    }
   ],
   "source": [
    "#'nonlocal' keyword to modify a variable in an enclosing scope from within a nested function.\n",
    "def echo_shout(word):\n",
    "    \"\"\"Change the value of a nonlocal variable\"\"\"\n",
    "    \n",
    "    # Concatenate word with itself: echo_word\n",
    "    echo_word = word * 2\n",
    "    \n",
    "    # Print echo_word\n",
    "    print(echo_word)\n",
    "    \n",
    "    # Define inner function shout()\n",
    "    def shout():\n",
    "        \"\"\"Alter a variable in the enclosing scope\"\"\"    \n",
    "        # Use echo_word in nonlocal scope\n",
    "        nonlocal echo_word\n",
    "        \n",
    "        # Change echo_word to echo_word concatenated with '!!!'\n",
    "        echo_word = echo_word + \"!!!\"\n",
    "    \n",
    "    # Call function shout()\n",
    "    shout()\n",
    "    \n",
    "    # Print echo_word\n",
    "    print(echo_word)\n",
    "\n",
    "# Call function echo_shout() with argument 'hello'\n",
    "echo_shout('hello')"
   ]
  },
  {
   "cell_type": "markdown",
   "id": "05ba2513-33ee-4bb3-a9ba-16d883047c45",
   "metadata": {},
   "source": [
    "**5. Default and flexible arguments**"
   ]
  },
  {
   "cell_type": "code",
   "execution_count": 22,
   "id": "7f5c12d6-00ba-482b-9567-d18cd169e94b",
   "metadata": {},
   "outputs": [
    {
     "name": "stdout",
     "output_type": "stream",
     "text": [
      "1\n",
      "2\n",
      "3\n",
      "hello\n",
      "[5, 6, 7]\n"
     ]
    }
   ],
   "source": [
    "#'*args' allows a function to accept any number of positional arguments. The arguments are passed as a tuple.\n",
    "def print_args(*args):\n",
    "    for arg in args:\n",
    "        print(arg)\n",
    "\n",
    "# Calling the function with multiple arguments\n",
    "print_args(1, 2, 3, \"hello\", [5, 6, 7])"
   ]
  },
  {
   "cell_type": "code",
   "execution_count": 16,
   "id": "58a6c571-174a-493e-bd54-98385fd91226",
   "metadata": {},
   "outputs": [
    {
     "name": "stdout",
     "output_type": "stream",
     "text": [
      "81 9 9\n"
     ]
    }
   ],
   "source": [
    "#add a default argument\n",
    "def power(number, pow=1):\n",
    "    \"\"\"Raise number to the power of pow.\"\"\"\n",
    "    new_value = number ** pow\n",
    "    return new_value\n",
    "print(power(9, 2), power(9, 1), power(9))"
   ]
  },
  {
   "cell_type": "code",
   "execution_count": 19,
   "id": "1e4f46a9-e5d3-4f0e-8ecf-2540db669da9",
   "metadata": {},
   "outputs": [
    {
     "name": "stdout",
     "output_type": "stream",
     "text": [
      "10 12\n"
     ]
    }
   ],
   "source": [
    "#flexible argmuments: *args\n",
    "def add_all(*args):\n",
    "    \"\"\"Sum all values in *args together\"\"\"\n",
    "\n",
    "    sum_all = 0\n",
    "\n",
    "    for num in args:\n",
    "        sum_all += num\n",
    "\n",
    "    return sum_all\n",
    "\n",
    "print(add_all(1,2,3,4), add_all(3, 4, 5))"
   ]
  },
  {
   "cell_type": "code",
   "execution_count": 24,
   "id": "ac6fd7f2-439c-4bf4-bfa0-a530e977f163",
   "metadata": {},
   "outputs": [
    {
     "name": "stdout",
     "output_type": "stream",
     "text": [
      "name: Alice\n",
      "age: 30\n",
      "job: Engineer\n"
     ]
    }
   ],
   "source": [
    "#'**kwargs' allows a function to accept any number of keyword arguments. The arguments are passed as a dictionary.\n",
    "def print_kwargs(**kwargs):\n",
    "    for key, value in kwargs.items():\n",
    "        print(f\"{key}: {value}\")\n",
    "\n",
    "# Calling the function with multiple keyword arguments\n",
    "print_kwargs(name=\"Alice\", age=30, job=\"Engineer\")"
   ]
  },
  {
   "cell_type": "code",
   "execution_count": 20,
   "id": "6ca1a776-a904-4909-851e-c9f7c20801bb",
   "metadata": {},
   "outputs": [
    {
     "name": "stdout",
     "output_type": "stream",
     "text": [
      "name:dumbledore\n",
      "job:headmaster\n"
     ]
    }
   ],
   "source": [
    "#flexible argmuments: **kwargs\n",
    "#arguments preceded by identifiers\n",
    "\n",
    "def print_all(**kwargs):\n",
    "    \"\"\"Print out key-value pairs in **kwargs.\"\"\"\n",
    "\n",
    "    for key, value in kwargs.items():\n",
    "        print(key + \":\" + value)\n",
    "\n",
    "print_all(name=\"dumbledore\", job=\"headmaster\")"
   ]
  },
  {
   "cell_type": "markdown",
   "id": "6508ad42-4f65-4d88-b0a4-e0f2f0176477",
   "metadata": {},
   "source": [
    "**6. Lambda functions**"
   ]
  },
  {
   "cell_type": "code",
   "execution_count": 5,
   "id": "eaf3c797-ccd8-4434-af8a-42c696615394",
   "metadata": {},
   "outputs": [
    {
     "data": {
      "text/plain": [
       "8"
      ]
     },
     "execution_count": 5,
     "metadata": {},
     "output_type": "execute_result"
    }
   ],
   "source": [
    "#lambda functions (anonymous functions)\n",
    "raise_to_power = lambda x, y: x ** y\n",
    "raise_to_power(2, 3)"
   ]
  },
  {
   "cell_type": "code",
   "execution_count": 8,
   "id": "b2e6f1e0-a02f-4943-8a36-44719a9f5716",
   "metadata": {},
   "outputs": [
    {
     "name": "stdout",
     "output_type": "stream",
     "text": [
      "[16, 9, 1, 25, 3025, 1936]\n"
     ]
    }
   ],
   "source": [
    "#anonymous functions\n",
    "nums = [4, 3, 1, 5, 55, 44]\n",
    "\n",
    "square_all = map(lambda num: num ** 2, nums)\n",
    "print(list(square_all))"
   ]
  },
  {
   "cell_type": "code",
   "execution_count": 7,
   "id": "62bcfb77-b81b-4661-b455-fe303a7a7cd8",
   "metadata": {},
   "outputs": [
    {
     "name": "stdout",
     "output_type": "stream",
     "text": [
      "['samwise', 'aragorn', 'boromir', 'legolas', 'gandalf']\n"
     ]
    }
   ],
   "source": [
    "# Create a list of strings: fellowship\n",
    "fellowship = ['frodo', 'samwise', 'merry', 'pippin', 'aragorn', 'boromir', 'legolas', 'gimli', 'gandalf']\n",
    "\n",
    "# Use filter() to apply a lambda function over fellowship: result\n",
    "result = filter(lambda member: len(member) > 6, fellowship)\n",
    "\n",
    "# Convert result to a list: result_list\n",
    "result_list = list(result)\n",
    "\n",
    "# Print result_list\n",
    "print(result_list)"
   ]
  },
  {
   "cell_type": "markdown",
   "id": "06ceb710-02a8-430f-9182-f840b3891f6b",
   "metadata": {},
   "source": [
    "**7. Introduction to error handling**"
   ]
  },
  {
   "cell_type": "code",
   "execution_count": 10,
   "id": "955686da-3316-47c8-856a-65477d0e8d58",
   "metadata": {},
   "outputs": [
    {
     "name": "stdout",
     "output_type": "stream",
     "text": [
      "x must be an int or float\n",
      "2.0 None\n"
     ]
    }
   ],
   "source": [
    "#errors and exceptions\n",
    "def sqrt(x):\n",
    "    \"\"\"Returns the square root of a number\"\"\"\n",
    "    try:\n",
    "        return x ** 0.5\n",
    "    except:\n",
    "        print('x must be an int or float')\n",
    "\n",
    "print(sqrt(4), sqrt('hello'))"
   ]
  },
  {
   "cell_type": "code",
   "execution_count": 12,
   "id": "c77505e9-5efc-46a9-8c99-40271fa63820",
   "metadata": {},
   "outputs": [
    {
     "name": "stdout",
     "output_type": "stream",
     "text": [
      "x must be an int or float\n",
      "None\n"
     ]
    }
   ],
   "source": [
    "#errors and exceptions\n",
    "def sqrt(x):\n",
    "    \"\"\"Returns the square root of a number\"\"\"\n",
    "    try:\n",
    "        return x ** 0.5\n",
    "    except TypeError:\n",
    "        print('x must be an int or float')\n",
    "\n",
    "print(sqrt('hello'))"
   ]
  },
  {
   "cell_type": "code",
   "execution_count": 13,
   "id": "5175337c-5b25-4cfc-8245-6b2305e80a41",
   "metadata": {},
   "outputs": [
    {
     "data": {
      "text/plain": [
       "(1.8369701987210297e-16+3j)"
      ]
     },
     "execution_count": 13,
     "metadata": {},
     "output_type": "execute_result"
    }
   ],
   "source": [
    "sqrt(-9)"
   ]
  },
  {
   "cell_type": "code",
   "execution_count": 14,
   "id": "79c1b828-71bb-4f2d-b39d-603d7454150b",
   "metadata": {},
   "outputs": [],
   "source": [
    "#errors and exceptions\n",
    "def sqrt(x):\n",
    "    \"\"\"Returns the square root of a number\"\"\"\n",
    "    if x < 0:\n",
    "        raise ValueError('x must be non-negative')\n",
    "    try:\n",
    "        return x ** 0.5\n",
    "    except TypeError:\n",
    "        print('x must be an int or float')"
   ]
  },
  {
   "cell_type": "code",
   "execution_count": 15,
   "id": "84230699-c1de-4908-8910-867fd26f2bf1",
   "metadata": {},
   "outputs": [
    {
     "ename": "ValueError",
     "evalue": "x must be non-negative",
     "output_type": "error",
     "traceback": [
      "\u001b[1;31m---------------------------------------------------------------------------\u001b[0m",
      "\u001b[1;31mValueError\u001b[0m                                Traceback (most recent call last)",
      "Cell \u001b[1;32mIn[15], line 1\u001b[0m\n\u001b[1;32m----> 1\u001b[0m \u001b[43msqrt\u001b[49m\u001b[43m(\u001b[49m\u001b[38;5;241;43m-\u001b[39;49m\u001b[38;5;241;43m9\u001b[39;49m\u001b[43m)\u001b[49m\n",
      "Cell \u001b[1;32mIn[14], line 5\u001b[0m, in \u001b[0;36msqrt\u001b[1;34m(x)\u001b[0m\n\u001b[0;32m      3\u001b[0m \u001b[38;5;250m\u001b[39m\u001b[38;5;124;03m\"\"\"Returns the square root of a number\"\"\"\u001b[39;00m\n\u001b[0;32m      4\u001b[0m \u001b[38;5;28;01mif\u001b[39;00m x \u001b[38;5;241m<\u001b[39m \u001b[38;5;241m0\u001b[39m:\n\u001b[1;32m----> 5\u001b[0m     \u001b[38;5;28;01mraise\u001b[39;00m \u001b[38;5;167;01mValueError\u001b[39;00m(\u001b[38;5;124m'\u001b[39m\u001b[38;5;124mx must be non-negative\u001b[39m\u001b[38;5;124m'\u001b[39m)\n\u001b[0;32m      6\u001b[0m \u001b[38;5;28;01mtry\u001b[39;00m:\n\u001b[0;32m      7\u001b[0m     \u001b[38;5;28;01mreturn\u001b[39;00m x \u001b[38;5;241m*\u001b[39m\u001b[38;5;241m*\u001b[39m \u001b[38;5;241m0.5\u001b[39m\n",
      "\u001b[1;31mValueError\u001b[0m: x must be non-negative"
     ]
    }
   ],
   "source": [
    "sqrt(-9)"
   ]
  },
  {
   "cell_type": "code",
   "execution_count": null,
   "id": "fb5e3112-ae51-47a0-9185-9aadc92e990a",
   "metadata": {},
   "outputs": [],
   "source": []
  }
 ],
 "metadata": {
  "kernelspec": {
   "display_name": "Python 3 (ipykernel)",
   "language": "python",
   "name": "python3"
  },
  "language_info": {
   "codemirror_mode": {
    "name": "ipython",
    "version": 3
   },
   "file_extension": ".py",
   "mimetype": "text/x-python",
   "name": "python",
   "nbconvert_exporter": "python",
   "pygments_lexer": "ipython3",
   "version": "3.12.3"
  }
 },
 "nbformat": 4,
 "nbformat_minor": 5
}
